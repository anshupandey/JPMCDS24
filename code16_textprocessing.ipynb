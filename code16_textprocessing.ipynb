{
 "cells": [
  {
   "cell_type": "markdown",
   "id": "ca47f39f",
   "metadata": {},
   "source": [
    "# Text Processing with Regular Expressions"
   ]
  },
  {
   "cell_type": "code",
   "execution_count": 1,
   "id": "b854601a",
   "metadata": {},
   "outputs": [],
   "source": [
    "import re"
   ]
  },
  {
   "cell_type": "code",
   "execution_count": 2,
   "id": "2c2ae354",
   "metadata": {},
   "outputs": [
    {
     "data": {
      "text/plain": [
       "['9898989898', '8998989898']"
      ]
     },
     "execution_count": 2,
     "metadata": {},
     "output_type": "execute_result"
    }
   ],
   "source": [
    "data = \"my moble number os 9898989898 and your is 8998989898 thank you\"\n",
    "\n",
    "pattern = \"[0-9]{10}\"\n",
    "re.findall(pattern,data)"
   ]
  },
  {
   "cell_type": "code",
   "execution_count": 3,
   "id": "41f52fed",
   "metadata": {},
   "outputs": [
    {
     "data": {
      "text/plain": [
       "'my moble number os ***** and your is ***** thank you'"
      ]
     },
     "execution_count": 3,
     "metadata": {},
     "output_type": "execute_result"
    }
   ],
   "source": [
    "re.sub(pattern,\"*****\",data)"
   ]
  },
  {
   "cell_type": "code",
   "execution_count": 4,
   "id": "1ef00b67",
   "metadata": {},
   "outputs": [
    {
     "data": {
      "text/plain": [
       "'my moble number os  and your is  thank you'"
      ]
     },
     "execution_count": 4,
     "metadata": {},
     "output_type": "execute_result"
    }
   ],
   "source": [
    "re.sub(pattern,\"\",data)"
   ]
  },
  {
   "cell_type": "code",
   "execution_count": 6,
   "id": "e3f09b94",
   "metadata": {},
   "outputs": [
    {
     "data": {
      "text/plain": [
       "['11/05/2023', '11/4/2023']"
      ]
     },
     "execution_count": 6,
     "metadata": {},
     "output_type": "execute_result"
    }
   ],
   "source": [
    "data = \"\"\" my email is anshu@mycompany.com and your email is manager@mycompany.com we have \n",
    "recived a complain from cliento on 11/05/2023 for the product they have ordered via an account with t\n",
    "the email id customer11@outlook.com on date 11/4/2023 and returned on 15-04-2023 please forward\n",
    "this to support team at mysupport_11@mycompany.com thank you\"\"\"\n",
    "\n",
    "\n",
    "datepattern = \"[0-9]{1,2}/[0-9]{1,2}/[0-9]{2,4}\"\n",
    "re.findall(datepattern,data)"
   ]
  },
  {
   "cell_type": "code",
   "execution_count": 7,
   "id": "60b6390d",
   "metadata": {},
   "outputs": [
    {
     "data": {
      "text/plain": [
       "['11/05/2023', '11/4/2023', '15-04-2023']"
      ]
     },
     "execution_count": 7,
     "metadata": {},
     "output_type": "execute_result"
    }
   ],
   "source": [
    "datepattern = \"[0-9]{1,2}/[0-9]{1,2}/[0-9]{2,4}|[0-9]{1,2}-[0-9]{1,2}-[0-9]{2,4}\"\n",
    "re.findall(datepattern,data)"
   ]
  },
  {
   "cell_type": "code",
   "execution_count": 8,
   "id": "552aecbb",
   "metadata": {},
   "outputs": [
    {
     "data": {
      "text/plain": [
       "['anshu@mycompany.com',\n",
       " 'manager@mycompany.com',\n",
       " 'customer11@outlook.com',\n",
       " 'mysupport_11@mycompany.com']"
      ]
     },
     "execution_count": 8,
     "metadata": {},
     "output_type": "execute_result"
    }
   ],
   "source": [
    "email = \"[a-zA-Z0-9._]+@[a-zA-Z0-9.]+\"\n",
    "re.findall(email,data)"
   ]
  },
  {
   "cell_type": "markdown",
   "id": "cea502d0",
   "metadata": {},
   "source": [
    "# Text Processing with NLTK"
   ]
  },
  {
   "cell_type": "code",
   "execution_count": 9,
   "id": "ae101d1d",
   "metadata": {
    "collapsed": true
   },
   "outputs": [
    {
     "name": "stderr",
     "output_type": "stream",
     "text": [
      "[nltk_data] Downloading package wordnet to C:\\Users\\Anshu\n",
      "[nltk_data]     Pandey\\AppData\\Roaming\\nltk_data...\n",
      "[nltk_data]   Package wordnet is already up-to-date!\n",
      "[nltk_data] Downloading package punkt to C:\\Users\\Anshu\n",
      "[nltk_data]     Pandey\\AppData\\Roaming\\nltk_data...\n",
      "[nltk_data]   Package punkt is already up-to-date!\n",
      "[nltk_data] Downloading package tagsets to C:\\Users\\Anshu\n",
      "[nltk_data]     Pandey\\AppData\\Roaming\\nltk_data...\n",
      "[nltk_data]   Package tagsets is already up-to-date!\n",
      "[nltk_data] Downloading package averaged_perceptron_tagger to\n",
      "[nltk_data]     C:\\Users\\Anshu Pandey\\AppData\\Roaming\\nltk_data...\n",
      "[nltk_data]   Package averaged_perceptron_tagger is already up-to-\n",
      "[nltk_data]       date!\n"
     ]
    },
    {
     "data": {
      "text/plain": [
       "True"
      ]
     },
     "execution_count": 9,
     "metadata": {},
     "output_type": "execute_result"
    }
   ],
   "source": [
    "import nltk\n",
    "nltk.download(\"wordnet\")\n",
    "nltk.download(\"punkt\")\n",
    "nltk.download(\"tagsets\")\n",
    "nltk.download(\"averaged_perceptron_tagger\")"
   ]
  },
  {
   "cell_type": "code",
   "execution_count": 10,
   "id": "6fbf4184",
   "metadata": {
    "collapsed": true
   },
   "outputs": [
    {
     "data": {
      "text/plain": [
       "[' my email is anshu@mycompany.com and your email is manager@mycompany.com.',\n",
       " 'We have \\nrecived a complain from cliento on 11/05/2023 for the product they have ordered via an account with t\\nthe email id customer11@outlook.com on date 11/4/2023.',\n",
       " 'The customer returned the product on 15-04-2023.',\n",
       " 'Please forward\\nthis to support team at mysupport_11@mycompany.com.',\n",
       " 'Thank you!']"
      ]
     },
     "execution_count": 10,
     "metadata": {},
     "output_type": "execute_result"
    }
   ],
   "source": [
    "data = \"\"\" my email is anshu@mycompany.com and your email is manager@mycompany.com. We have \n",
    "recived a complain from cliento on 11/05/2023 for the product they have ordered via an account with t\n",
    "the email id customer11@outlook.com on date 11/4/2023. The customer returned the product on 15-04-2023. Please forward\n",
    "this to support team at mysupport_11@mycompany.com. Thank you!\"\"\"\n",
    "\n",
    "# sentence tokenization\n",
    "nltk.sent_tokenize(data)"
   ]
  },
  {
   "cell_type": "code",
   "execution_count": 11,
   "id": "64c7ca74",
   "metadata": {
    "collapsed": true
   },
   "outputs": [
    {
     "data": {
      "text/plain": [
       "['my',\n",
       " 'email',\n",
       " 'is',\n",
       " 'anshu',\n",
       " '@',\n",
       " 'mycompany.com',\n",
       " 'and',\n",
       " 'your',\n",
       " 'email',\n",
       " 'is',\n",
       " 'manager',\n",
       " '@',\n",
       " 'mycompany.com',\n",
       " '.',\n",
       " 'We',\n",
       " 'have',\n",
       " 'recived',\n",
       " 'a',\n",
       " 'complain',\n",
       " 'from',\n",
       " 'cliento',\n",
       " 'on',\n",
       " '11/05/2023',\n",
       " 'for',\n",
       " 'the',\n",
       " 'product',\n",
       " 'they',\n",
       " 'have',\n",
       " 'ordered',\n",
       " 'via',\n",
       " 'an',\n",
       " 'account',\n",
       " 'with',\n",
       " 't',\n",
       " 'the',\n",
       " 'email',\n",
       " 'id',\n",
       " 'customer11',\n",
       " '@',\n",
       " 'outlook.com',\n",
       " 'on',\n",
       " 'date',\n",
       " '11/4/2023',\n",
       " '.',\n",
       " 'The',\n",
       " 'customer',\n",
       " 'returned',\n",
       " 'the',\n",
       " 'product',\n",
       " 'on',\n",
       " '15-04-2023',\n",
       " '.',\n",
       " 'Please',\n",
       " 'forward',\n",
       " 'this',\n",
       " 'to',\n",
       " 'support',\n",
       " 'team',\n",
       " 'at',\n",
       " 'mysupport_11',\n",
       " '@',\n",
       " 'mycompany.com',\n",
       " '.',\n",
       " 'Thank',\n",
       " 'you',\n",
       " '!']"
      ]
     },
     "execution_count": 11,
     "metadata": {},
     "output_type": "execute_result"
    }
   ],
   "source": [
    "# word tokenization\n",
    "nltk.word_tokenize(data)"
   ]
  },
  {
   "cell_type": "code",
   "execution_count": 12,
   "id": "c820f882",
   "metadata": {
    "collapsed": true
   },
   "outputs": [
    {
     "data": {
      "text/plain": [
       "'box'"
      ]
     },
     "execution_count": 12,
     "metadata": {},
     "output_type": "execute_result"
    }
   ],
   "source": [
    "# Lemmatization: getting root form of the word\n",
    "\n",
    "from nltk.stem import WordNetLemmatizer\n",
    "\n",
    "wd = WordNetLemmatizer()\n",
    "\n",
    "wd.lemmatize(\"boxes\")"
   ]
  },
  {
   "cell_type": "code",
   "execution_count": 13,
   "id": "c0d8737c",
   "metadata": {
    "collapsed": true
   },
   "outputs": [
    {
     "data": {
      "text/plain": [
       "'knife'"
      ]
     },
     "execution_count": 13,
     "metadata": {},
     "output_type": "execute_result"
    }
   ],
   "source": [
    "wd.lemmatize(\"knives\")"
   ]
  },
  {
   "cell_type": "code",
   "execution_count": 14,
   "id": "c8ce9b11",
   "metadata": {
    "collapsed": true
   },
   "outputs": [
    {
     "data": {
      "text/plain": [
       "'child'"
      ]
     },
     "execution_count": 14,
     "metadata": {},
     "output_type": "execute_result"
    }
   ],
   "source": [
    "wd.lemmatize(\"children\")"
   ]
  },
  {
   "cell_type": "code",
   "execution_count": 15,
   "id": "7d37bf6d",
   "metadata": {},
   "outputs": [
    {
     "data": {
      "text/plain": [
       "'go'"
      ]
     },
     "execution_count": 15,
     "metadata": {},
     "output_type": "execute_result"
    }
   ],
   "source": [
    "wd.lemmatize(\"went\",'v')"
   ]
  },
  {
   "cell_type": "code",
   "execution_count": 16,
   "id": "087d2932",
   "metadata": {
    "collapsed": true
   },
   "outputs": [
    {
     "data": {
      "text/plain": [
       "[('John', 'NNP'),\n",
       " ('visited', 'VBD'),\n",
       " ('Microsoft', 'NNP'),\n",
       " ('Inc', 'NNP'),\n",
       " ('yesterday', 'NN'),\n",
       " ('and', 'CC'),\n",
       " ('met', 'VBD'),\n",
       " ('Kelly', 'NNP'),\n",
       " ('in', 'IN'),\n",
       " ('the', 'DT'),\n",
       " ('office', 'NN'),\n",
       " ('.', '.')]"
      ]
     },
     "execution_count": 16,
     "metadata": {},
     "output_type": "execute_result"
    }
   ],
   "source": [
    "# Part of speech tagging\n",
    "data = \"John visited Microsoft Inc yesterday and met Kelly in the office.\"\n",
    "nltk.pos_tag(nltk.word_tokenize(data))"
   ]
  },
  {
   "cell_type": "code",
   "execution_count": 17,
   "id": "46ed8a6e",
   "metadata": {
    "collapsed": true
   },
   "outputs": [
    {
     "name": "stdout",
     "output_type": "stream",
     "text": [
      "VBD: verb, past tense\n",
      "    dipped pleaded swiped regummed soaked tidied convened halted registered\n",
      "    cushioned exacted snubbed strode aimed adopted belied figgered\n",
      "    speculated wore appreciated contemplated ...\n"
     ]
    }
   ],
   "source": [
    "nltk.help.upenn_tagset(\"VBD\")"
   ]
  },
  {
   "cell_type": "code",
   "execution_count": 18,
   "id": "b0588d2a",
   "metadata": {},
   "outputs": [],
   "source": [
    "# Entity Recognition"
   ]
  },
  {
   "cell_type": "code",
   "execution_count": 1,
   "id": "ff5332fd",
   "metadata": {},
   "outputs": [
    {
     "name": "stderr",
     "output_type": "stream",
     "text": [
      "C:\\Users\\Anshu Pandey\\AppData\\Roaming\\Python\\Python310\\site-packages\\spacy\\util.py:910: UserWarning: [W095] Model 'en_core_web_sm' (3.5.0) was trained with spaCy v3.5.0 and may not be 100% compatible with the current version (3.8.2). If you see errors or degraded performance, download a newer compatible model or retrain your custom model with the current spaCy version. For more details and available updates, run: python -m spacy validate\n",
      "  warnings.warn(warn_msg)\n"
     ]
    }
   ],
   "source": [
    "data = \"John visited Microsoft Inc yesterday and met Kelly in the office. John gave a gift on saturday which is a watch worth $500 and Kelly was happy. John works at Alphabet Inc and previously he was part of JP Morgan and Chase in Mumbai.\"\n",
    "\n",
    "import spacy\n",
    "nlp = spacy.load(\"en_core_web_sm\")\n",
    "\n",
    "doc = nlp(data)\n"
   ]
  },
  {
   "cell_type": "code",
   "execution_count": 3,
   "id": "8484424f",
   "metadata": {},
   "outputs": [
    {
     "data": {
      "text/html": [
       "<span class=\"tex2jax_ignore\"><div class=\"entities\" style=\"line-height: 2.5; direction: ltr\">\n",
       "<mark class=\"entity\" style=\"background: #aa9cfc; padding: 0.45em 0.6em; margin: 0 0.25em; line-height: 1; border-radius: 0.35em;\">\n",
       "    John\n",
       "    <span style=\"font-size: 0.8em; font-weight: bold; line-height: 1; border-radius: 0.35em; vertical-align: middle; margin-left: 0.5rem\">PERSON</span>\n",
       "</mark>\n",
       " visited \n",
       "<mark class=\"entity\" style=\"background: #7aecec; padding: 0.45em 0.6em; margin: 0 0.25em; line-height: 1; border-radius: 0.35em;\">\n",
       "    Microsoft Inc\n",
       "    <span style=\"font-size: 0.8em; font-weight: bold; line-height: 1; border-radius: 0.35em; vertical-align: middle; margin-left: 0.5rem\">ORG</span>\n",
       "</mark>\n",
       " \n",
       "<mark class=\"entity\" style=\"background: #bfe1d9; padding: 0.45em 0.6em; margin: 0 0.25em; line-height: 1; border-radius: 0.35em;\">\n",
       "    yesterday\n",
       "    <span style=\"font-size: 0.8em; font-weight: bold; line-height: 1; border-radius: 0.35em; vertical-align: middle; margin-left: 0.5rem\">DATE</span>\n",
       "</mark>\n",
       " and met \n",
       "<mark class=\"entity\" style=\"background: #aa9cfc; padding: 0.45em 0.6em; margin: 0 0.25em; line-height: 1; border-radius: 0.35em;\">\n",
       "    Kelly\n",
       "    <span style=\"font-size: 0.8em; font-weight: bold; line-height: 1; border-radius: 0.35em; vertical-align: middle; margin-left: 0.5rem\">PERSON</span>\n",
       "</mark>\n",
       " in the office. \n",
       "<mark class=\"entity\" style=\"background: #aa9cfc; padding: 0.45em 0.6em; margin: 0 0.25em; line-height: 1; border-radius: 0.35em;\">\n",
       "    John\n",
       "    <span style=\"font-size: 0.8em; font-weight: bold; line-height: 1; border-radius: 0.35em; vertical-align: middle; margin-left: 0.5rem\">PERSON</span>\n",
       "</mark>\n",
       " gave a gift on \n",
       "<mark class=\"entity\" style=\"background: #bfe1d9; padding: 0.45em 0.6em; margin: 0 0.25em; line-height: 1; border-radius: 0.35em;\">\n",
       "    saturday\n",
       "    <span style=\"font-size: 0.8em; font-weight: bold; line-height: 1; border-radius: 0.35em; vertical-align: middle; margin-left: 0.5rem\">DATE</span>\n",
       "</mark>\n",
       " which is a watch worth $\n",
       "<mark class=\"entity\" style=\"background: #e4e7d2; padding: 0.45em 0.6em; margin: 0 0.25em; line-height: 1; border-radius: 0.35em;\">\n",
       "    500\n",
       "    <span style=\"font-size: 0.8em; font-weight: bold; line-height: 1; border-radius: 0.35em; vertical-align: middle; margin-left: 0.5rem\">MONEY</span>\n",
       "</mark>\n",
       " and \n",
       "<mark class=\"entity\" style=\"background: #aa9cfc; padding: 0.45em 0.6em; margin: 0 0.25em; line-height: 1; border-radius: 0.35em;\">\n",
       "    Kelly\n",
       "    <span style=\"font-size: 0.8em; font-weight: bold; line-height: 1; border-radius: 0.35em; vertical-align: middle; margin-left: 0.5rem\">PERSON</span>\n",
       "</mark>\n",
       " was happy. \n",
       "<mark class=\"entity\" style=\"background: #aa9cfc; padding: 0.45em 0.6em; margin: 0 0.25em; line-height: 1; border-radius: 0.35em;\">\n",
       "    John\n",
       "    <span style=\"font-size: 0.8em; font-weight: bold; line-height: 1; border-radius: 0.35em; vertical-align: middle; margin-left: 0.5rem\">PERSON</span>\n",
       "</mark>\n",
       " works at \n",
       "<mark class=\"entity\" style=\"background: #7aecec; padding: 0.45em 0.6em; margin: 0 0.25em; line-height: 1; border-radius: 0.35em;\">\n",
       "    Alphabet Inc\n",
       "    <span style=\"font-size: 0.8em; font-weight: bold; line-height: 1; border-radius: 0.35em; vertical-align: middle; margin-left: 0.5rem\">ORG</span>\n",
       "</mark>\n",
       " and previously he was part of \n",
       "<mark class=\"entity\" style=\"background: #7aecec; padding: 0.45em 0.6em; margin: 0 0.25em; line-height: 1; border-radius: 0.35em;\">\n",
       "    JP Morgan\n",
       "    <span style=\"font-size: 0.8em; font-weight: bold; line-height: 1; border-radius: 0.35em; vertical-align: middle; margin-left: 0.5rem\">ORG</span>\n",
       "</mark>\n",
       " and \n",
       "<mark class=\"entity\" style=\"background: #7aecec; padding: 0.45em 0.6em; margin: 0 0.25em; line-height: 1; border-radius: 0.35em;\">\n",
       "    Chase\n",
       "    <span style=\"font-size: 0.8em; font-weight: bold; line-height: 1; border-radius: 0.35em; vertical-align: middle; margin-left: 0.5rem\">ORG</span>\n",
       "</mark>\n",
       " in \n",
       "<mark class=\"entity\" style=\"background: #feca74; padding: 0.45em 0.6em; margin: 0 0.25em; line-height: 1; border-radius: 0.35em;\">\n",
       "    Mumbai\n",
       "    <span style=\"font-size: 0.8em; font-weight: bold; line-height: 1; border-radius: 0.35em; vertical-align: middle; margin-left: 0.5rem\">GPE</span>\n",
       "</mark>\n",
       ".</div></span>"
      ],
      "text/plain": [
       "<IPython.core.display.HTML object>"
      ]
     },
     "metadata": {},
     "output_type": "display_data"
    }
   ],
   "source": [
    "from spacy import displacy\n",
    "displacy.render(doc,style='ent',jupyter=True)"
   ]
  },
  {
   "cell_type": "code",
   "execution_count": null,
   "id": "d412b8ca",
   "metadata": {},
   "outputs": [],
   "source": []
  }
 ],
 "metadata": {
  "kernelspec": {
   "display_name": "Python 3 (ipykernel)",
   "language": "python",
   "name": "python3"
  },
  "language_info": {
   "codemirror_mode": {
    "name": "ipython",
    "version": 3
   },
   "file_extension": ".py",
   "mimetype": "text/x-python",
   "name": "python",
   "nbconvert_exporter": "python",
   "pygments_lexer": "ipython3",
   "version": "3.10.9"
  }
 },
 "nbformat": 4,
 "nbformat_minor": 5
}
