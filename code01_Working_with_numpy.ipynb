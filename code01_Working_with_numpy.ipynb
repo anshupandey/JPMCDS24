{
 "cells": [
  {
   "cell_type": "code",
   "execution_count": 1,
   "id": "37f050fa-8c97-4996-9596-47e13d655bfd",
   "metadata": {},
   "outputs": [
    {
     "name": "stdout",
     "output_type": "stream",
     "text": [
      "Hello World\n"
     ]
    }
   ],
   "source": [
    "print(\"Hello World\")"
   ]
  },
  {
   "cell_type": "markdown",
   "id": "b01c37b2-6fb2-4340-82de-5e1e147d024f",
   "metadata": {},
   "source": [
    "# Python Packages for Analytics, ML\n",
    "\n",
    "- numpy, scipy, statsmodels: mathematical computation, scientifc computations, statistical analysis\n",
    "- pandas: data import export, data cleaning, aggregation, transformation, visualization\n",
    "- matplotlib,seaborn, plotly : Data visualization\n",
    "\n",
    "- scikit-learn: Machine Learning Algorithms, FEature Engineering\n",
    "\n",
    "- tensorflow, pytorch : Deep Learning implementation\n",
    "\n",
    "- openCV, imgaug : Computer vision\n",
    "- nltk, textblob, gensim, spacy: text processing, natural language processing\n",
    "- mlflow: MLOps\n",
    "- flask, fastapi, django: web services, REST API\n",
    "  "
   ]
  },
  {
   "cell_type": "markdown",
   "id": "0ac9decd-d053-4f55-8c20-a7785abea28c",
   "metadata": {},
   "source": [
    "## WOrking with numpy"
   ]
  },
  {
   "cell_type": "code",
   "execution_count": 2,
   "id": "a68badc6-620a-496d-9271-4c825cfc92db",
   "metadata": {},
   "outputs": [
    {
     "name": "stdout",
     "output_type": "stream",
     "text": [
      "[3, 5, 6, 6, 7, 3]\n"
     ]
    }
   ],
   "source": [
    "x = [3,5,6]\n",
    "y = [6,7,3]\n",
    "\n",
    "print(x+y)"
   ]
  },
  {
   "cell_type": "code",
   "execution_count": 3,
   "id": "97c61fa5-0c2a-4ce1-870c-d3498dad88fa",
   "metadata": {},
   "outputs": [],
   "source": [
    "import numpy as np"
   ]
  },
  {
   "cell_type": "code",
   "execution_count": 5,
   "id": "e34c6f7d-0eec-4f40-8377-45d29a60cdc3",
   "metadata": {},
   "outputs": [
    {
     "name": "stdout",
     "output_type": "stream",
     "text": [
      "[ 8 12  8]\n"
     ]
    }
   ],
   "source": [
    "x = np.array([3,5,6])\n",
    "y = np.array([5,7,2])\n",
    "\n",
    "print(x+y)"
   ]
  },
  {
   "cell_type": "code",
   "execution_count": 6,
   "id": "dd31c778-8898-4c1f-80e6-9b485867d085",
   "metadata": {},
   "outputs": [
    {
     "name": "stdout",
     "output_type": "stream",
     "text": [
      "[-2 -2  4]\n"
     ]
    }
   ],
   "source": [
    "print(x-y)"
   ]
  },
  {
   "cell_type": "code",
   "execution_count": 7,
   "id": "a8a16776-c965-4fb7-bede-ef66989b02b6",
   "metadata": {},
   "outputs": [
    {
     "data": {
      "text/plain": [
       "array([[4, 5, 6],\n",
       "       [6, 4, 2],\n",
       "       [9, 3, 6]])"
      ]
     },
     "execution_count": 7,
     "metadata": {},
     "output_type": "execute_result"
    }
   ],
   "source": [
    "x = np.array([[4,5,6],[6,4,2],[9,3,6]])\n",
    "x"
   ]
  },
  {
   "cell_type": "code",
   "execution_count": 8,
   "id": "fc7cd1fa-5b2e-4fdd-b8a1-661620285b31",
   "metadata": {},
   "outputs": [
    {
     "data": {
      "text/plain": [
       "numpy.ndarray"
      ]
     },
     "execution_count": 8,
     "metadata": {},
     "output_type": "execute_result"
    }
   ],
   "source": [
    "type(x)"
   ]
  },
  {
   "cell_type": "code",
   "execution_count": 9,
   "id": "23178e75-df2a-45bc-b229-1913655f483a",
   "metadata": {},
   "outputs": [
    {
     "data": {
      "text/plain": [
       "2"
      ]
     },
     "execution_count": 9,
     "metadata": {},
     "output_type": "execute_result"
    }
   ],
   "source": [
    "x.min()"
   ]
  },
  {
   "cell_type": "code",
   "execution_count": 10,
   "id": "3cf3b2f6-d98c-429f-ba2f-bc0867f13953",
   "metadata": {},
   "outputs": [
    {
     "data": {
      "text/plain": [
       "9"
      ]
     },
     "execution_count": 10,
     "metadata": {},
     "output_type": "execute_result"
    }
   ],
   "source": [
    "x.max()"
   ]
  },
  {
   "cell_type": "code",
   "execution_count": 11,
   "id": "2fd58588-f1ee-4d06-aa9b-c88feef0b479",
   "metadata": {},
   "outputs": [
    {
     "data": {
      "text/plain": [
       "45"
      ]
     },
     "execution_count": 11,
     "metadata": {},
     "output_type": "execute_result"
    }
   ],
   "source": [
    "x.sum()"
   ]
  },
  {
   "cell_type": "markdown",
   "id": "b1cc47a3-0819-41d4-a083-484f32a23a6e",
   "metadata": {},
   "source": [
    "# Arrays with numpy"
   ]
  },
  {
   "cell_type": "code",
   "execution_count": null,
   "id": "2302b33a-4153-4809-a29b-c3f8cacae266",
   "metadata": {},
   "outputs": [],
   "source": [
    "x = np.ones((3,4))\n",
    "x"
   ]
  },
  {
   "cell_type": "code",
   "execution_count": null,
   "id": "71b54fdf-f56d-4d7d-8dcd-06441623c452",
   "metadata": {},
   "outputs": [],
   "source": [
    "x = np.zeros((3,4))\n",
    "x"
   ]
  },
  {
   "cell_type": "code",
   "execution_count": null,
   "id": "fee9e388-d42f-4ce7-8294-4bfc5ec352fe",
   "metadata": {},
   "outputs": [],
   "source": [
    "x = np.linspace(2,20,12)\n",
    "x"
   ]
  },
  {
   "cell_type": "code",
   "execution_count": null,
   "id": "cb514f4b-946e-49a9-818f-5e8f307ae88d",
   "metadata": {},
   "outputs": [],
   "source": [
    "x = np.arange(2,20,2.5)\n",
    "x"
   ]
  },
  {
   "cell_type": "code",
   "execution_count": null,
   "id": "5fe83386-21e5-473f-838e-88af28720660",
   "metadata": {},
   "outputs": [],
   "source": [
    "x = np.random.rand(5)\n",
    "x"
   ]
  },
  {
   "cell_type": "code",
   "execution_count": null,
   "id": "8d0828d6-d1ed-4399-a0ab-aab032da97d8",
   "metadata": {},
   "outputs": [],
   "source": [
    "x = np.random.randn(5)\n",
    "x"
   ]
  },
  {
   "cell_type": "code",
   "execution_count": null,
   "id": "97be5755-5bc4-4174-bfa7-df7d6d35b493",
   "metadata": {},
   "outputs": [],
   "source": [
    "x = np.random.randint(3,20,5)\n",
    "x"
   ]
  },
  {
   "cell_type": "code",
   "execution_count": 21,
   "id": "bda51722-b56d-4e8a-8327-7df104d1d607",
   "metadata": {},
   "outputs": [
    {
     "data": {
      "text/plain": [
       "array([ 8,  9, 10,  4,  7])"
      ]
     },
     "execution_count": 21,
     "metadata": {},
     "output_type": "execute_result"
    }
   ],
   "source": [
    "x = np.random.randint(3,20,5)\n",
    "x"
   ]
  },
  {
   "cell_type": "code",
   "execution_count": 22,
   "id": "e6e1c490-4f86-48e6-96b3-6b268eb40a39",
   "metadata": {},
   "outputs": [
    {
     "data": {
      "text/plain": [
       "array([ 8,  8, 16, 16, 15])"
      ]
     },
     "execution_count": 22,
     "metadata": {},
     "output_type": "execute_result"
    }
   ],
   "source": [
    "np.random.seed(30)\n",
    "x = np.random.randint(3,20,5)\n",
    "x"
   ]
  },
  {
   "cell_type": "code",
   "execution_count": 23,
   "id": "32088b7d-76fd-45cb-9447-8fb76ac83af2",
   "metadata": {},
   "outputs": [
    {
     "data": {
      "text/plain": [
       "array([ 8,  8, 16, 16, 15])"
      ]
     },
     "execution_count": 23,
     "metadata": {},
     "output_type": "execute_result"
    }
   ],
   "source": [
    "np.random.seed(30)\n",
    "x = np.random.randint(3,20,5)\n",
    "x"
   ]
  },
  {
   "cell_type": "markdown",
   "id": "4875b64f-2bb1-4adf-b23f-53497fd2cf90",
   "metadata": {},
   "source": [
    "## Linear Algebra with numpy"
   ]
  },
  {
   "cell_type": "code",
   "execution_count": 24,
   "id": "8fb4ad4c-e8cf-409f-95f6-a393328d74e2",
   "metadata": {},
   "outputs": [
    {
     "data": {
      "text/plain": [
       "array([[4, 5, 6],\n",
       "       [6, 4, 2],\n",
       "       [9, 3, 6]])"
      ]
     },
     "execution_count": 24,
     "metadata": {},
     "output_type": "execute_result"
    }
   ],
   "source": [
    "x = np.array([[4,5,6],[6,4,2],[9,3,6]])\n",
    "x"
   ]
  },
  {
   "cell_type": "code",
   "execution_count": 26,
   "id": "f79ee270-435d-4144-b735-7d2cd30087f2",
   "metadata": {},
   "outputs": [
    {
     "data": {
      "text/plain": [
       "-126.00000000000011"
      ]
     },
     "execution_count": 26,
     "metadata": {},
     "output_type": "execute_result"
    }
   ],
   "source": [
    "np.linalg.det(x)"
   ]
  },
  {
   "cell_type": "code",
   "execution_count": 27,
   "id": "92244380-837c-4055-9fee-62e01a573994",
   "metadata": {},
   "outputs": [
    {
     "data": {
      "text/plain": [
       "array([[-0.14285714,  0.0952381 ,  0.11111111],\n",
       "       [ 0.14285714,  0.23809524, -0.22222222],\n",
       "       [ 0.14285714, -0.26190476,  0.11111111]])"
      ]
     },
     "execution_count": 27,
     "metadata": {},
     "output_type": "execute_result"
    }
   ],
   "source": [
    "np.linalg.inv(x)"
   ]
  },
  {
   "cell_type": "markdown",
   "id": "fcea7fd5-22c4-40aa-8f10-f5577286cf4c",
   "metadata": {},
   "source": [
    "5x - 3y = 16\n",
    "\n",
    "3x + y = 18"
   ]
  },
  {
   "cell_type": "code",
   "execution_count": 28,
   "id": "65e6bd8c-6b78-4fe7-ba2d-a35532669c1d",
   "metadata": {},
   "outputs": [
    {
     "data": {
      "text/plain": [
       "array([5., 3.])"
      ]
     },
     "execution_count": 28,
     "metadata": {},
     "output_type": "execute_result"
    }
   ],
   "source": [
    "coef = [[5,-3],[3,1]]\n",
    "cons = [16,18]\n",
    "\n",
    "np.linalg.solve(coef,cons)"
   ]
  },
  {
   "cell_type": "code",
   "execution_count": null,
   "id": "045bd3ee-55b8-4a05-ab4c-ed2a1badfdd5",
   "metadata": {},
   "outputs": [],
   "source": []
  }
 ],
 "metadata": {
  "kernelspec": {
   "display_name": "Python 3 (ipykernel)",
   "language": "python",
   "name": "python3"
  },
  "language_info": {
   "codemirror_mode": {
    "name": "ipython",
    "version": 3
   },
   "file_extension": ".py",
   "mimetype": "text/x-python",
   "name": "python",
   "nbconvert_exporter": "python",
   "pygments_lexer": "ipython3",
   "version": "3.12.4"
  }
 },
 "nbformat": 4,
 "nbformat_minor": 5
}
