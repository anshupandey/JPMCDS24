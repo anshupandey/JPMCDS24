{
 "cells": [
  {
   "cell_type": "markdown",
   "id": "8190155a",
   "metadata": {},
   "source": [
    "# Linear Regression for estimating Annual Premium of Health Insurance"
   ]
  },
  {
   "cell_type": "markdown",
   "id": "8ed56ff6",
   "metadata": {},
   "source": [
    "\n",
    "1. Domain Exploration\n",
    "- understanding business process, customer journey\n",
    "- explore and analyze sources of data, data journey, data users\n",
    "- Identify key exceptions in business process, key beleifs from opeerations/shopfloor stakeholders\n",
    "\n",
    "\n",
    "2. Data Collection and Exploration\n",
    "- Collect data from different sources: inside and outside\n",
    "- Build a dataset, define target attribute\n",
    "- perform high level exploration to assess data quality\n",
    "\n",
    "\n",
    "3. Data Cleaning\n",
    "- Handling duplicates, missing values, outliers\n",
    "- handle formating, units \n",
    "\n",
    "\n",
    "4. Feature Engineering\n",
    "- Feature Extraction: Extract new features from existing: data modelling, Dimensionality reduciton, OLTP to OLAP\n",
    "- Feature Selection: Select most relevant features\n",
    "    - Statistical Research: COrrelation ANalysis, ANOVA, Chisquare\n",
    "    - Data Visualization: Univariate, Bivariate and Multivariate\n",
    "    \n",
    "\n",
    "5. Feature Preprocessing: \n",
    "- Encoding features\n",
    "- SCaling features\n",
    "\n",
    "\n",
    "7. Model Development\n",
    "- Select algorithm, train model\n",
    "- Evaluate Model\n",
    "\n",
    "8. Optimize model\n",
    "- Tune model, optimize data and get the best model\n",
    "\n",
    "9. Deploy model\n",
    "- Deploy model as an inferense pipeline\n",
    "\n",
    "10. Monitor in production"
   ]
  },
  {
   "cell_type": "code",
   "execution_count": 1,
   "id": "653fae68",
   "metadata": {},
   "outputs": [
    {
     "name": "stderr",
     "output_type": "stream",
     "text": [
      "C:\\Users\\Anshu Pandey\\AppData\\Roaming\\Python\\Python310\\site-packages\\pandas\\core\\arrays\\masked.py:60: UserWarning: Pandas requires version '1.3.6' or newer of 'bottleneck' (version '1.3.5' currently installed).\n",
      "  from pandas.core import (\n"
     ]
    }
   ],
   "source": [
    "import pandas as pd\n",
    "import numpy as np\n",
    "import matplotlib.pyplot as plt\n",
    "import seaborn as sns\n",
    "sns.set_theme()"
   ]
  },
  {
   "cell_type": "markdown",
   "id": "311e96ef",
   "metadata": {},
   "source": [
    "## 2. Data Collection and Exploration"
   ]
  },
  {
   "cell_type": "code",
   "execution_count": 2,
   "id": "2ce7bc2b",
   "metadata": {},
   "outputs": [
    {
     "data": {
      "text/plain": [
       "(1338, 7)"
      ]
     },
     "execution_count": 2,
     "metadata": {},
     "output_type": "execute_result"
    }
   ],
   "source": [
    "# load data\n",
    "df = pd.read_csv(\"datasets-1/insurance.csv\")\n",
    "df.shape"
   ]
  },
  {
   "cell_type": "markdown",
   "id": "19eac854",
   "metadata": {},
   "source": [
    "## 3. Data Cleaning"
   ]
  },
  {
   "cell_type": "code",
   "execution_count": 6,
   "id": "5811098c",
   "metadata": {},
   "outputs": [
    {
     "data": {
      "text/plain": [
       "1"
      ]
     },
     "execution_count": 6,
     "metadata": {},
     "output_type": "execute_result"
    }
   ],
   "source": [
    "# check duplicates\n",
    "df.duplicated().sum()"
   ]
  },
  {
   "cell_type": "code",
   "execution_count": 7,
   "id": "ab5532f6",
   "metadata": {},
   "outputs": [
    {
     "name": "stdout",
     "output_type": "stream",
     "text": [
      "(1338, 7)\n",
      "(1337, 7)\n"
     ]
    }
   ],
   "source": [
    "# drop the duplicated row\n",
    "print(df.shape)\n",
    "df.drop_duplicates(inplace=True)\n",
    "print(df.shape)\n"
   ]
  },
  {
   "cell_type": "code",
   "execution_count": 8,
   "id": "a017c5dc",
   "metadata": {},
   "outputs": [
    {
     "data": {
      "text/plain": [
       "age         0\n",
       "Gender      0\n",
       "bmi         0\n",
       "children    0\n",
       "smoker      0\n",
       "region      0\n",
       "charges     0\n",
       "dtype: int64"
      ]
     },
     "execution_count": 8,
     "metadata": {},
     "output_type": "execute_result"
    }
   ],
   "source": [
    "# check for missing values\n",
    "df.isnull().sum()"
   ]
  },
  {
   "cell_type": "code",
   "execution_count": 11,
   "id": "2ff6798c",
   "metadata": {},
   "outputs": [
    {
     "data": {
      "text/plain": [
       "41210.04980000002"
      ]
     },
     "execution_count": 11,
     "metadata": {},
     "output_type": "execute_result"
    }
   ],
   "source": [
    "# Analyze value at 98 percentile\n",
    "thresh = df.charges.quantile(0.95)\n",
    "thresh"
   ]
  },
  {
   "cell_type": "code",
   "execution_count": 12,
   "id": "384a182d",
   "metadata": {},
   "outputs": [
    {
     "name": "stdout",
     "output_type": "stream",
     "text": [
      "1.5153909108403483\n",
      "1.3058517533895801\n"
     ]
    },
    {
     "name": "stderr",
     "output_type": "stream",
     "text": [
      "C:\\Users\\Anshu Pandey\\AppData\\Local\\Temp\\ipykernel_29360\\727695898.py:3: FutureWarning: ChainedAssignmentError: behaviour will change in pandas 3.0!\n",
      "You are setting values through chained assignment. Currently this works in certain cases, but when using Copy-on-Write (which will become the default behaviour in pandas 3.0) this will never work to update the original DataFrame or Series, because the intermediate object on which we are setting values will behave as a copy.\n",
      "A typical example is when you are setting values in a column of a DataFrame, like:\n",
      "\n",
      "df[\"col\"][row_indexer] = value\n",
      "\n",
      "Use `df.loc[row_indexer, \"col\"] = values` instead, to perform the assignment in a single step and ensure this keeps updating the original `df`.\n",
      "\n",
      "See the caveats in the documentation: https://pandas.pydata.org/pandas-docs/stable/user_guide/indexing.html#returning-a-view-versus-a-copy\n",
      "\n",
      "  df.charges[df.charges>thresh] = df.charges[df.charges<thresh].max()\n",
      "C:\\Users\\Anshu Pandey\\AppData\\Local\\Temp\\ipykernel_29360\\727695898.py:3: SettingWithCopyWarning: \n",
      "A value is trying to be set on a copy of a slice from a DataFrame\n",
      "\n",
      "See the caveats in the documentation: https://pandas.pydata.org/pandas-docs/stable/user_guide/indexing.html#returning-a-view-versus-a-copy\n",
      "  df.charges[df.charges>thresh] = df.charges[df.charges<thresh].max()\n"
     ]
    }
   ],
   "source": [
    "# replace all values above thresh by max value below thresh\n",
    "print(df.charges.skew())\n",
    "df.charges[df.charges>thresh] = df.charges[df.charges<thresh].max()\n",
    "print(df.charges.skew())"
   ]
  },
  {
   "cell_type": "code",
   "execution_count": 27,
   "id": "e577e798",
   "metadata": {},
   "outputs": [
    {
     "data": {
      "text/plain": [
       "Index(['age', 'Gender', 'bmi', 'children', 'smoker', 'region', 'charges'], dtype='object')"
      ]
     },
     "execution_count": 27,
     "metadata": {},
     "output_type": "execute_result"
    }
   ],
   "source": [
    "df.columns"
   ]
  },
  {
   "cell_type": "code",
   "execution_count": 28,
   "id": "e05ebe88",
   "metadata": {},
   "outputs": [],
   "source": [
    "x= df[['age','bmi','children','smoker']]\n",
    "y = df['charges']"
   ]
  },
  {
   "cell_type": "markdown",
   "id": "e98973d5",
   "metadata": {},
   "source": [
    "## 5. Feature Preprocessing"
   ]
  },
  {
   "cell_type": "code",
   "execution_count": 30,
   "id": "a61380f9",
   "metadata": {},
   "outputs": [
    {
     "name": "stderr",
     "output_type": "stream",
     "text": [
      "C:\\Users\\Anshu Pandey\\AppData\\Local\\Temp\\ipykernel_29360\\3130872335.py:3: SettingWithCopyWarning:\n",
      "\n",
      "\n",
      "A value is trying to be set on a copy of a slice from a DataFrame.\n",
      "Try using .loc[row_indexer,col_indexer] = value instead\n",
      "\n",
      "See the caveats in the documentation: https://pandas.pydata.org/pandas-docs/stable/user_guide/indexing.html#returning-a-view-versus-a-copy\n",
      "\n"
     ]
    },
    {
     "data": {
      "text/html": [
       "<div>\n",
       "<style scoped>\n",
       "    .dataframe tbody tr th:only-of-type {\n",
       "        vertical-align: middle;\n",
       "    }\n",
       "\n",
       "    .dataframe tbody tr th {\n",
       "        vertical-align: top;\n",
       "    }\n",
       "\n",
       "    .dataframe thead th {\n",
       "        text-align: right;\n",
       "    }\n",
       "</style>\n",
       "<table border=\"1\" class=\"dataframe\">\n",
       "  <thead>\n",
       "    <tr style=\"text-align: right;\">\n",
       "      <th></th>\n",
       "      <th>age</th>\n",
       "      <th>bmi</th>\n",
       "      <th>children</th>\n",
       "      <th>smoker</th>\n",
       "    </tr>\n",
       "  </thead>\n",
       "  <tbody>\n",
       "    <tr>\n",
       "      <th>0</th>\n",
       "      <td>19</td>\n",
       "      <td>27.900</td>\n",
       "      <td>0</td>\n",
       "      <td>1</td>\n",
       "    </tr>\n",
       "    <tr>\n",
       "      <th>1</th>\n",
       "      <td>18</td>\n",
       "      <td>33.770</td>\n",
       "      <td>1</td>\n",
       "      <td>0</td>\n",
       "    </tr>\n",
       "    <tr>\n",
       "      <th>2</th>\n",
       "      <td>28</td>\n",
       "      <td>33.000</td>\n",
       "      <td>3</td>\n",
       "      <td>0</td>\n",
       "    </tr>\n",
       "    <tr>\n",
       "      <th>3</th>\n",
       "      <td>33</td>\n",
       "      <td>22.705</td>\n",
       "      <td>0</td>\n",
       "      <td>0</td>\n",
       "    </tr>\n",
       "    <tr>\n",
       "      <th>4</th>\n",
       "      <td>32</td>\n",
       "      <td>28.880</td>\n",
       "      <td>0</td>\n",
       "      <td>0</td>\n",
       "    </tr>\n",
       "  </tbody>\n",
       "</table>\n",
       "</div>"
      ],
      "text/plain": [
       "   age     bmi  children  smoker\n",
       "0   19  27.900         0       1\n",
       "1   18  33.770         1       0\n",
       "2   28  33.000         3       0\n",
       "3   33  22.705         0       0\n",
       "4   32  28.880         0       0"
      ]
     },
     "execution_count": 30,
     "metadata": {},
     "output_type": "execute_result"
    }
   ],
   "source": [
    "from sklearn.preprocessing import LabelEncoder\n",
    "smoker_en = LabelEncoder()\n",
    "x['smoker'] = smoker_en.fit_transform(x['smoker'])\n",
    "# train test split\n",
    "from sklearn.model_selection import train_test_split\n",
    "xtrain,xtest,ytrain,ytest = train_test_split(x,y,test_size=0.2, random_state=50)\n",
    "print(x.shape,xtrain.shape,xtest.shape)\n",
    "print(y.shape,ytrain.shape,ytest.shape)"
   ]
  },
  {
   "cell_type": "markdown",
   "id": "80a936a7",
   "metadata": {},
   "source": [
    "## 6. Applying Machine Learning"
   ]
  },
  {
   "cell_type": "code",
   "execution_count": 32,
   "id": "ebf833d3",
   "metadata": {},
   "outputs": [],
   "source": [
    "import mlflow\n",
    "import mlflow.sklearn\n",
    "\n",
    "mlflow.set_tracking_uri(\"http://3.25.126.82:5000/\")"
   ]
  },
  {
   "cell_type": "code",
   "execution_count": 33,
   "id": "9eded3b7",
   "metadata": {},
   "outputs": [
    {
     "data": {
      "text/plain": [
       "'123848121867164488'"
      ]
     },
     "execution_count": 33,
     "metadata": {},
     "output_type": "execute_result"
    }
   ],
   "source": [
    "mlflow.create_experiment(\"Insurance-Anshu\")"
   ]
  },
  {
   "cell_type": "code",
   "execution_count": 34,
   "id": "49a3e03a",
   "metadata": {},
   "outputs": [
    {
     "data": {
      "text/plain": [
       "<Experiment: artifact_location='mlflow-artifacts:/123848121867164488', creation_time=1728041546854, experiment_id='123848121867164488', last_update_time=1728041546854, lifecycle_stage='active', name='Insurance-Anshu', tags={}>"
      ]
     },
     "execution_count": 34,
     "metadata": {},
     "output_type": "execute_result"
    }
   ],
   "source": [
    "mlflow.set_experiment(\"Insurance-Anshu\")"
   ]
  },
  {
   "cell_type": "code",
   "execution_count": 35,
   "id": "72928246",
   "metadata": {},
   "outputs": [
    {
     "name": "stderr",
     "output_type": "stream",
     "text": [
      "2024/10/04 17:04:51 WARNING mlflow.utils.autologging_utils: MLflow autologging encountered a warning: \"C:\\ProgramData\\anaconda3\\lib\\site-packages\\mlflow\\data\\digest_utils.py:26: FutureWarning: DataFrame.applymap has been deprecated. Use DataFrame.map instead.\"\n",
      "2024/10/04 17:04:51 WARNING mlflow.utils.autologging_utils: MLflow autologging encountered a warning: \"C:\\ProgramData\\anaconda3\\lib\\site-packages\\mlflow\\data\\pandas_dataset.py:134: UserWarning: Hint: Inferred schema contains integer column(s). Integer columns in Python cannot represent missing values. If your input data contains missing values at inference time, it will be encoded as floats and will cause a schema enforcement error. The best way to avoid this problem is to infer the model schema based on a realistic data sample (training dataset) that includes missing values. Alternatively, you can declare integer columns as doubles (float64) whenever these columns may have missing values. See `Handling Integers With Missing Values <https://www.mlflow.org/docs/latest/models.html#handling-integers-with-missing-values>`_ for more details.\"\n",
      "2024/10/04 17:04:52 WARNING mlflow.utils.autologging_utils: MLflow autologging encountered a warning: \"C:\\ProgramData\\anaconda3\\lib\\site-packages\\mlflow\\models\\signature.py:212: UserWarning: Hint: Inferred schema contains integer column(s). Integer columns in Python cannot represent missing values. If your input data contains missing values at inference time, it will be encoded as floats and will cause a schema enforcement error. The best way to avoid this problem is to infer the model schema based on a realistic data sample (training dataset) that includes missing values. Alternatively, you can declare integer columns as doubles (float64) whenever these columns may have missing values. See `Handling Integers With Missing Values <https://www.mlflow.org/docs/latest/models.html#handling-integers-with-missing-values>`_ for more details.\"\n",
      "2024/10/04 17:05:27 WARNING mlflow.utils.environment: Encountered an unexpected error while inferring pip requirements (model URI: C:\\Users\\ANSHUP~1\\AppData\\Local\\Temp\\tmpj7ijha_u\\model\\model.pkl, flavor: sklearn), fall back to return ['scikit-learn==1.3.2', 'cloudpickle==2.2.1']. Set logging level to DEBUG to see the full traceback.\n",
      "2024/10/04 17:05:27 WARNING mlflow.utils.autologging_utils: MLflow autologging encountered a warning: \"C:\\Users\\Anshu Pandey\\AppData\\Roaming\\Python\\Python310\\site-packages\\_distutils_hack\\__init__.py:32: UserWarning: Setuptools is replacing distutils. Support for replacing an already imported distutils is deprecated. In the future, this condition will fail. Register concerns at https://github.com/pypa/setuptools/issues/new?template=distutils-deprecation.yml\"\n",
      "2024/10/04 17:05:32 WARNING mlflow.utils.autologging_utils: MLflow autologging encountered a warning: \"C:\\ProgramData\\anaconda3\\lib\\site-packages\\mlflow\\data\\digest_utils.py:26: FutureWarning: DataFrame.applymap has been deprecated. Use DataFrame.map instead.\"\n",
      "2024/10/04 17:05:32 WARNING mlflow.utils.autologging_utils: MLflow autologging encountered a warning: \"C:\\ProgramData\\anaconda3\\lib\\site-packages\\mlflow\\data\\pandas_dataset.py:134: UserWarning: Hint: Inferred schema contains integer column(s). Integer columns in Python cannot represent missing values. If your input data contains missing values at inference time, it will be encoded as floats and will cause a schema enforcement error. The best way to avoid this problem is to infer the model schema based on a realistic data sample (training dataset) that includes missing values. Alternatively, you can declare integer columns as doubles (float64) whenever these columns may have missing values. See `Handling Integers With Missing Values <https://www.mlflow.org/docs/latest/models.html#handling-integers-with-missing-values>`_ for more details.\"\n"
     ]
    }
   ],
   "source": [
    "from sklearn.linear_model import LinearRegression\n",
    "\n",
    "mlflow.sklearn.autolog()\n",
    "\n",
    "\n",
    "with mlflow.start_run():\n",
    "    \n",
    "    # initiate the model object\n",
    "    model = LinearRegression()\n",
    "\n",
    "    # train the model with training data\n",
    "    model.fit(xtrain,ytrain)\n",
    "    \n",
    "    ypred = model.predict(xtest)\n",
    "    from sklearn.metrics import r2_score\n",
    "    r2 = r2_score(ytest,ypred)"
   ]
  },
  {
   "cell_type": "markdown",
   "id": "b7408875",
   "metadata": {},
   "source": [
    "## Client Code"
   ]
  },
  {
   "cell_type": "code",
   "execution_count": 62,
   "id": "580293fa",
   "metadata": {},
   "outputs": [
    {
     "name": "stdout",
     "output_type": "stream",
     "text": [
      "b'{\"age\": [24], \"bmi\": [30.0], \"children\": [2], \"smoker\": [0], \"prediction\": 5051.709450479322}'\n"
     ]
    }
   ],
   "source": [
    "import requests\n",
    "import json\n",
    "\n",
    "data = {\"age\":[24,], \"bmi\":[30.0,],\"children\":[2,],\"smoker\":[0,]}\n",
    "data = json.dumps(data)\n",
    "\n",
    "\n",
    "url= \"http://127.0.0.1:5001/predict\"\n",
    "response = requests.post(url,data=data)\n",
    "print(response.content)"
   ]
  },
  {
   "cell_type": "code",
   "execution_count": 40,
   "id": "423080e0",
   "metadata": {},
   "outputs": [],
   "source": [
    "import mlflow\n",
    "\n",
    "mlflow.set_tracking_uri(\"http://3.25.126.82:5000/\")"
   ]
  },
  {
   "cell_type": "code",
   "execution_count": 41,
   "id": "b1d0d688",
   "metadata": {},
   "outputs": [
    {
     "data": {
      "application/vnd.jupyter.widget-view+json": {
       "model_id": "5156b9e50eb749269eb2fac975ba9b5e",
       "version_major": 2,
       "version_minor": 0
      },
      "text/plain": [
       "Downloading artifacts:   0%|          | 0/5 [00:00<?, ?it/s]"
      ]
     },
     "metadata": {},
     "output_type": "display_data"
    }
   ],
   "source": [
    "model_name=\"insurance\"\n",
    "model_version=1\n",
    "\n",
    "model = mlflow.pyfunc.load_model(model_uri=f\"models:/{model_name}/{model_version}\")\n"
   ]
  },
  {
   "cell_type": "code",
   "execution_count": 45,
   "id": "800f5e0f",
   "metadata": {},
   "outputs": [
    {
     "data": {
      "text/plain": [
       "inputs: \n",
       "  ['age': long, 'bmi': double, 'children': long, 'smoker': integer]\n",
       "outputs: \n",
       "  [Tensor('float64', (-1,))]\n",
       "params: \n",
       "  None"
      ]
     },
     "execution_count": 45,
     "metadata": {},
     "output_type": "execute_result"
    }
   ],
   "source": [
    "model.metadata.signature"
   ]
  },
  {
   "cell_type": "code",
   "execution_count": 56,
   "id": "4c9270e2",
   "metadata": {},
   "outputs": [
    {
     "data": {
      "text/html": [
       "<div>\n",
       "<style scoped>\n",
       "    .dataframe tbody tr th:only-of-type {\n",
       "        vertical-align: middle;\n",
       "    }\n",
       "\n",
       "    .dataframe tbody tr th {\n",
       "        vertical-align: top;\n",
       "    }\n",
       "\n",
       "    .dataframe thead th {\n",
       "        text-align: right;\n",
       "    }\n",
       "</style>\n",
       "<table border=\"1\" class=\"dataframe\">\n",
       "  <thead>\n",
       "    <tr style=\"text-align: right;\">\n",
       "      <th></th>\n",
       "      <th>age</th>\n",
       "      <th>bmi</th>\n",
       "      <th>children</th>\n",
       "      <th>smoker</th>\n",
       "    </tr>\n",
       "  </thead>\n",
       "  <tbody>\n",
       "    <tr>\n",
       "      <th>0</th>\n",
       "      <td>24</td>\n",
       "      <td>30.0</td>\n",
       "      <td>2</td>\n",
       "      <td>0</td>\n",
       "    </tr>\n",
       "  </tbody>\n",
       "</table>\n",
       "</div>"
      ],
      "text/plain": [
       "   age   bmi  children  smoker\n",
       "0   24  30.0         2       0"
      ]
     },
     "execution_count": 56,
     "metadata": {},
     "output_type": "execute_result"
    }
   ],
   "source": [
    "data = pd.DataFrame({\"age\":[24,], \"bmi\":[30.0,],\"children\":[2,],\"smoker\":np.array([0,]).astype('int32')})\n",
    "data"
   ]
  },
  {
   "cell_type": "code",
   "execution_count": 57,
   "id": "a86a0f11",
   "metadata": {},
   "outputs": [
    {
     "data": {
      "text/plain": [
       "array([5051.70945048])"
      ]
     },
     "execution_count": 57,
     "metadata": {},
     "output_type": "execute_result"
    }
   ],
   "source": [
    "model.predict(data)"
   ]
  },
  {
   "cell_type": "code",
   "execution_count": 58,
   "id": "8e562141",
   "metadata": {},
   "outputs": [
    {
     "name": "stdout",
     "output_type": "stream",
     "text": [
      "<class 'pandas.core.frame.DataFrame'>\n",
      "RangeIndex: 1 entries, 0 to 0\n",
      "Data columns (total 4 columns):\n",
      " #   Column    Non-Null Count  Dtype  \n",
      "---  ------    --------------  -----  \n",
      " 0   age       1 non-null      int64  \n",
      " 1   bmi       1 non-null      float64\n",
      " 2   children  1 non-null      int64  \n",
      " 3   smoker    1 non-null      int32  \n",
      "dtypes: float64(1), int32(1), int64(2)\n",
      "memory usage: 156.0 bytes\n"
     ]
    }
   ],
   "source": [
    "data.info()"
   ]
  },
  {
   "cell_type": "code",
   "execution_count": 64,
   "id": "afe6786f",
   "metadata": {},
   "outputs": [
    {
     "name": "stdout",
     "output_type": "stream",
     "text": [
      "b'{\"age\": [24], \"bmi\": [30.0], \"children\": [2], \"smoker\": [0], \"prediction\": 5051.709450479324}'\n"
     ]
    }
   ],
   "source": [
    "\n",
    "import requests\n",
    "import json\n",
    "\n",
    "data = {\"age\":[24,], \"bmi\":[30.0,],\"children\":[2,],\"smoker\":[0,]}\n",
    "data = json.dumps(data)\n",
    "url = \"http://3.25.126.82:5001/predict\"\n",
    "\n",
    "\n",
    "response = requests.post(url,data=data)\n",
    "print(response.content)"
   ]
  },
  {
   "cell_type": "code",
   "execution_count": null,
   "id": "d210db58",
   "metadata": {},
   "outputs": [],
   "source": []
  }
 ],
 "metadata": {
  "kernelspec": {
   "display_name": "Python 3 (ipykernel)",
   "language": "python",
   "name": "python3"
  },
  "language_info": {
   "codemirror_mode": {
    "name": "ipython",
    "version": 3
   },
   "file_extension": ".py",
   "mimetype": "text/x-python",
   "name": "python",
   "nbconvert_exporter": "python",
   "pygments_lexer": "ipython3",
   "version": "3.10.9"
  }
 },
 "nbformat": 4,
 "nbformat_minor": 5
}
