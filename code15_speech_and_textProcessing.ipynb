{
 "cells": [
  {
   "cell_type": "markdown",
   "id": "bbcafb9f",
   "metadata": {},
   "source": [
    "# SPeech and Text Processing"
   ]
  },
  {
   "cell_type": "markdown",
   "id": "ee2fffc9",
   "metadata": {},
   "source": [
    "## Speech to Text"
   ]
  },
  {
   "cell_type": "code",
   "execution_count": 1,
   "id": "01e32f3e",
   "metadata": {},
   "outputs": [],
   "source": [
    "# conda install pyaudio\n",
    "# pip install speech-recognition"
   ]
  },
  {
   "cell_type": "code",
   "execution_count": 2,
   "id": "092c5076",
   "metadata": {},
   "outputs": [],
   "source": [
    "import speech_recognition as sr"
   ]
  },
  {
   "cell_type": "code",
   "execution_count": 5,
   "id": "d6278830",
   "metadata": {
    "collapsed": true
   },
   "outputs": [
    {
     "name": "stdout",
     "output_type": "stream",
     "text": [
      "start Speaking... \n",
      "Completed recording\n"
     ]
    }
   ],
   "source": [
    "r = sr.Recognizer()\n",
    "\n",
    "# record audio\n",
    "\n",
    "with sr.Microphone(0) as source:\n",
    "    print(\"start Speaking... \")\n",
    "    audio = r.listen(source,phrase_time_limit=10)\n",
    "    print(\"Completed recording\")\n",
    "    "
   ]
  },
  {
   "cell_type": "code",
   "execution_count": 6,
   "id": "cb35028d",
   "metadata": {
    "collapsed": true
   },
   "outputs": [
    {
     "name": "stdout",
     "output_type": "stream",
     "text": [
      "hello everyone hello everyone I hope you're doing good today and let's see how does this works special text recognition whether it is able to recognise a text quite well or not\n"
     ]
    }
   ],
   "source": [
    "# speech to text\n",
    "text = r.recognize_google(audio)\n",
    "print(text)"
   ]
  },
  {
   "cell_type": "markdown",
   "id": "0c6900ec",
   "metadata": {},
   "source": [
    "## Text to SPeech"
   ]
  },
  {
   "cell_type": "code",
   "execution_count": 7,
   "id": "67bf6119",
   "metadata": {},
   "outputs": [],
   "source": [
    "# pip install pyttsx3\n",
    "\n",
    "import pyttsx3\n",
    "\n",
    "engine = pyttsx3.init()"
   ]
  },
  {
   "cell_type": "code",
   "execution_count": 8,
   "id": "974119ce",
   "metadata": {},
   "outputs": [],
   "source": [
    "engine.setProperty(\"rate\",100) # 100 words per minute \n",
    "engine.say(\"Hello Everyone!, hope you are doing good today.\")\n",
    "engine.runAndWait()"
   ]
  },
  {
   "cell_type": "code",
   "execution_count": 9,
   "id": "3c6379f8",
   "metadata": {},
   "outputs": [
    {
     "data": {
      "text/plain": [
       "[<pyttsx3.voice.Voice at 0x2648137a770>,\n",
       " <pyttsx3.voice.Voice at 0x2648137aad0>]"
      ]
     },
     "execution_count": 9,
     "metadata": {},
     "output_type": "execute_result"
    }
   ],
   "source": [
    "voices = engine.getProperty('voices')\n",
    "voices"
   ]
  },
  {
   "cell_type": "code",
   "execution_count": 10,
   "id": "ba1487f2",
   "metadata": {},
   "outputs": [],
   "source": [
    "engine.setProperty('voice',voices[1].id)\n",
    "engine.say(\"Hello Everyone!, hope you are doing good today.\")\n",
    "engine.runAndWait()"
   ]
  },
  {
   "cell_type": "code",
   "execution_count": null,
   "id": "04ff6fdb",
   "metadata": {},
   "outputs": [],
   "source": []
  }
 ],
 "metadata": {
  "kernelspec": {
   "display_name": "Python 3 (ipykernel)",
   "language": "python",
   "name": "python3"
  },
  "language_info": {
   "codemirror_mode": {
    "name": "ipython",
    "version": 3
   },
   "file_extension": ".py",
   "mimetype": "text/x-python",
   "name": "python",
   "nbconvert_exporter": "python",
   "pygments_lexer": "ipython3",
   "version": "3.10.9"
  }
 },
 "nbformat": 4,
 "nbformat_minor": 5
}
