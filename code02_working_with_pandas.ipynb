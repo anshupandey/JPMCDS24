{
 "cells": [
  {
   "cell_type": "markdown",
   "id": "1b9e1b4d-971c-4491-b314-203b0f723e8d",
   "metadata": {},
   "source": [
    "# Working with Pandas"
   ]
  },
  {
   "cell_type": "code",
   "execution_count": 1,
   "id": "4a530163-9b94-4ba7-97a4-874b9e0bbc23",
   "metadata": {},
   "outputs": [],
   "source": [
    "# Pandas Series: 1D Data\n",
    "# Pandas DAtaframe: 2D data"
   ]
  },
  {
   "cell_type": "code",
   "execution_count": 2,
   "id": "0d51e56b-dd8e-47f7-9abb-77ca074ff93c",
   "metadata": {},
   "outputs": [],
   "source": [
    "import pandas as pd"
   ]
  },
  {
   "cell_type": "code",
   "execution_count": null,
   "id": "d4d4391a-9c83-4e23-b11e-f4652d11bc8c",
   "metadata": {
    "scrolled": true
   },
   "outputs": [],
   "source": [
    "# pandas series\n",
    "ps = pd.Series([23,25,26,34,35,37,37],name='Age')\n",
    "ps"
   ]
  },
  {
   "cell_type": "code",
   "execution_count": null,
   "id": "b1b7a3c2-021f-4072-846d-aed0c06c6d80",
   "metadata": {
    "scrolled": true
   },
   "outputs": [],
   "source": [
    "# Pandas Dataframe\n",
    "data = {\"name\":[\"Anshu\",\"Nishanth\",\"Veena\",\"Madhavi\",\"Naresh\"],\n",
    "        \"city\":[\"DEL\",\"KUL\",\"BLR\",\"BLR\",\"DEL\"],\n",
    "        \"age\":[43,27,25,24,26]}\n",
    "df = pd.DataFrame(data)\n",
    "df"
   ]
  },
  {
   "cell_type": "code",
   "execution_count": null,
   "id": "3f4caebe-860d-457b-b379-58adcb273c1c",
   "metadata": {},
   "outputs": [],
   "source": [
    "# selection\n",
    "df.head(3)"
   ]
  },
  {
   "cell_type": "code",
   "execution_count": null,
   "id": "6f9bf140-5d81-4f1b-adff-d7c705c0b39c",
   "metadata": {
    "scrolled": true
   },
   "outputs": [],
   "source": [
    "df.tail(2)"
   ]
  },
  {
   "cell_type": "code",
   "execution_count": null,
   "id": "c2349150-e3bd-41f6-a085-2e9e5eb2102a",
   "metadata": {
    "scrolled": true
   },
   "outputs": [],
   "source": [
    "df['name']"
   ]
  },
  {
   "cell_type": "code",
   "execution_count": null,
   "id": "7b6c45da-2524-43bc-86aa-31ddb7caccec",
   "metadata": {
    "scrolled": true
   },
   "outputs": [],
   "source": [
    "df.name"
   ]
  },
  {
   "cell_type": "code",
   "execution_count": null,
   "id": "562b8c6f-cd67-4c3f-b644-4d2abc9e2d75",
   "metadata": {},
   "outputs": [],
   "source": [
    "df[['name','age']]"
   ]
  },
  {
   "cell_type": "code",
   "execution_count": null,
   "id": "6b7d26c4-3064-4c3b-b4ee-b630d563d0a9",
   "metadata": {},
   "outputs": [],
   "source": [
    "df[2:5]"
   ]
  },
  {
   "cell_type": "code",
   "execution_count": 13,
   "id": "435f6cd6-adb0-46a9-8307-28ac5383c1bd",
   "metadata": {},
   "outputs": [
    {
     "data": {
      "text/html": [
       "<div>\n",
       "<style scoped>\n",
       "    .dataframe tbody tr th:only-of-type {\n",
       "        vertical-align: middle;\n",
       "    }\n",
       "\n",
       "    .dataframe tbody tr th {\n",
       "        vertical-align: top;\n",
       "    }\n",
       "\n",
       "    .dataframe thead th {\n",
       "        text-align: right;\n",
       "    }\n",
       "</style>\n",
       "<table border=\"1\" class=\"dataframe\">\n",
       "  <thead>\n",
       "    <tr style=\"text-align: right;\">\n",
       "      <th></th>\n",
       "      <th>name</th>\n",
       "      <th>city</th>\n",
       "    </tr>\n",
       "  </thead>\n",
       "  <tbody>\n",
       "    <tr>\n",
       "      <th>2</th>\n",
       "      <td>Veena</td>\n",
       "      <td>BLR</td>\n",
       "    </tr>\n",
       "  </tbody>\n",
       "</table>\n",
       "</div>"
      ],
      "text/plain": [
       "    name city\n",
       "2  Veena  BLR"
      ]
     },
     "execution_count": 13,
     "metadata": {},
     "output_type": "execute_result"
    }
   ],
   "source": [
    "df.iloc[2:3,0:2]"
   ]
  },
  {
   "cell_type": "markdown",
   "id": "c645edb0-7073-4e69-bc7b-e1def631a271",
   "metadata": {},
   "source": [
    "## Filtering"
   ]
  },
  {
   "cell_type": "code",
   "execution_count": null,
   "id": "14a9f63c-20be-4e75-acf8-7094f6708fa8",
   "metadata": {},
   "outputs": [],
   "source": [
    "df"
   ]
  },
  {
   "cell_type": "code",
   "execution_count": null,
   "id": "b9c52945-0e8a-46e1-8d63-c4f42a984987",
   "metadata": {
    "scrolled": true
   },
   "outputs": [],
   "source": [
    "df['city']==\"DEL\""
   ]
  },
  {
   "cell_type": "code",
   "execution_count": null,
   "id": "0f9fd58e-623a-471e-bdb4-2732be57262f",
   "metadata": {},
   "outputs": [],
   "source": [
    "df[df['city']==\"DEL\"]"
   ]
  },
  {
   "cell_type": "code",
   "execution_count": null,
   "id": "757db3ae-77c2-420c-b29b-81a610449cd6",
   "metadata": {},
   "outputs": [],
   "source": [
    "df[df.age>25]"
   ]
  },
  {
   "cell_type": "code",
   "execution_count": null,
   "id": "3db31e28-fb0e-496c-bb09-f0728154ef0c",
   "metadata": {},
   "outputs": [],
   "source": [
    "# combine conditions\n",
    "df[df.age>25][df.city=='DEL']"
   ]
  },
  {
   "cell_type": "code",
   "execution_count": null,
   "id": "a0fed95c-7722-4782-8c5b-dfc68aa43f2e",
   "metadata": {},
   "outputs": [],
   "source": [
    "# OR Condition\n",
    "\n",
    "df[(df.age<30) | (df.city!='DEL')]"
   ]
  },
  {
   "cell_type": "code",
   "execution_count": 20,
   "id": "1459c1cd-cc12-4f59-80ea-756b3a6014d9",
   "metadata": {},
   "outputs": [
    {
     "data": {
      "text/html": [
       "<div>\n",
       "<style scoped>\n",
       "    .dataframe tbody tr th:only-of-type {\n",
       "        vertical-align: middle;\n",
       "    }\n",
       "\n",
       "    .dataframe tbody tr th {\n",
       "        vertical-align: top;\n",
       "    }\n",
       "\n",
       "    .dataframe thead th {\n",
       "        text-align: right;\n",
       "    }\n",
       "</style>\n",
       "<table border=\"1\" class=\"dataframe\">\n",
       "  <thead>\n",
       "    <tr style=\"text-align: right;\">\n",
       "      <th></th>\n",
       "      <th>name</th>\n",
       "      <th>city</th>\n",
       "      <th>age</th>\n",
       "    </tr>\n",
       "  </thead>\n",
       "  <tbody>\n",
       "    <tr>\n",
       "      <th>0</th>\n",
       "      <td>Anshu</td>\n",
       "      <td>DEL</td>\n",
       "      <td>43</td>\n",
       "    </tr>\n",
       "  </tbody>\n",
       "</table>\n",
       "</div>"
      ],
      "text/plain": [
       "    name city  age\n",
       "0  Anshu  DEL   43"
      ]
     },
     "execution_count": 20,
     "metadata": {},
     "output_type": "execute_result"
    }
   ],
   "source": [
    "# AND Condition\n",
    "\n",
    "df[(df.age>30) & (df.city=='DEL')]"
   ]
  },
  {
   "cell_type": "code",
   "execution_count": null,
   "id": "abb9cbea-7990-4d1a-bf3f-830a3168f27b",
   "metadata": {},
   "outputs": [],
   "source": [
    "df[df.name.isin(['Anshu','Nishanth'])]"
   ]
  },
  {
   "cell_type": "code",
   "execution_count": null,
   "id": "32138754-e5b8-41f3-ae58-2f5fe0f921fb",
   "metadata": {
    "scrolled": true
   },
   "outputs": [],
   "source": [
    "def get_name(value,letter='a'):\n",
    "    if value[0].lower()==letter.lower():\n",
    "        return True\n",
    "    else:\n",
    "        return False\n",
    "\n",
    "df['name'].apply(get_name)"
   ]
  },
  {
   "cell_type": "code",
   "execution_count": null,
   "id": "d91434a1-5592-4941-a34b-c5d2bc918e0c",
   "metadata": {
    "scrolled": true
   },
   "outputs": [],
   "source": [
    "df[df['name'].apply(get_name)]"
   ]
  },
  {
   "cell_type": "code",
   "execution_count": null,
   "id": "caac48c7-cf7a-4e46-b304-5a9c626feda8",
   "metadata": {
    "scrolled": true
   },
   "outputs": [],
   "source": [
    "df[df.name.apply(lambda x:get_name(x,'n'))]"
   ]
  },
  {
   "cell_type": "code",
   "execution_count": 29,
   "id": "c0e06278-386b-442b-bc53-f9093564d689",
   "metadata": {},
   "outputs": [
    {
     "data": {
      "text/html": [
       "<div>\n",
       "<style scoped>\n",
       "    .dataframe tbody tr th:only-of-type {\n",
       "        vertical-align: middle;\n",
       "    }\n",
       "\n",
       "    .dataframe tbody tr th {\n",
       "        vertical-align: top;\n",
       "    }\n",
       "\n",
       "    .dataframe thead th {\n",
       "        text-align: right;\n",
       "    }\n",
       "</style>\n",
       "<table border=\"1\" class=\"dataframe\">\n",
       "  <thead>\n",
       "    <tr style=\"text-align: right;\">\n",
       "      <th></th>\n",
       "      <th>name</th>\n",
       "      <th>city</th>\n",
       "      <th>age</th>\n",
       "    </tr>\n",
       "  </thead>\n",
       "  <tbody>\n",
       "    <tr>\n",
       "      <th>1</th>\n",
       "      <td>Nishanth</td>\n",
       "      <td>KUL</td>\n",
       "      <td>27</td>\n",
       "    </tr>\n",
       "    <tr>\n",
       "      <th>4</th>\n",
       "      <td>Naresh</td>\n",
       "      <td>DEL</td>\n",
       "      <td>26</td>\n",
       "    </tr>\n",
       "  </tbody>\n",
       "</table>\n",
       "</div>"
      ],
      "text/plain": [
       "       name city  age\n",
       "1  Nishanth  KUL   27\n",
       "4    Naresh  DEL   26"
      ]
     },
     "execution_count": 29,
     "metadata": {},
     "output_type": "execute_result"
    }
   ],
   "source": [
    "df[df.name.apply(lambda x:True if x[0].lower()=='n' else False)]"
   ]
  },
  {
   "cell_type": "markdown",
   "id": "a932ea10-fb31-4b97-b0f3-ac015b91cbb5",
   "metadata": {},
   "source": [
    "# Data Import / Export"
   ]
  },
  {
   "cell_type": "code",
   "execution_count": null,
   "id": "11279b67-d75e-4c5d-9ad8-44c9a6d8f3da",
   "metadata": {},
   "outputs": [],
   "source": [
    "# loading from CSV file\n",
    "df = pd.read_csv(\"JPMCDS24/datasets-1/Bank_churn_modelling.csv\")\n",
    "df.shape"
   ]
  },
  {
   "cell_type": "code",
   "execution_count": null,
   "id": "a88c4cf3-69a5-4c43-9886-199740b059ea",
   "metadata": {},
   "outputs": [],
   "source": [
    "df.head()"
   ]
  },
  {
   "cell_type": "code",
   "execution_count": null,
   "id": "ffb6c4fd-b6e4-4046-8df1-2e2f2652c8c3",
   "metadata": {},
   "outputs": [],
   "source": [
    "# loading from excel file\n",
    "df = pd.read_excel(\"JPMCDS24/datasets-1/Wholesale customers data.xlsx\")\n",
    "df.shape"
   ]
  },
  {
   "cell_type": "code",
   "execution_count": null,
   "id": "e7a5ec23-336d-4445-b643-75fc3ec0cb3c",
   "metadata": {},
   "outputs": [],
   "source": [
    "df.head()"
   ]
  },
  {
   "cell_type": "code",
   "execution_count": null,
   "id": "7e5e30de-5d46-483b-adb1-48c06ef27063",
   "metadata": {},
   "outputs": [],
   "source": [
    "# loading data from JSON file\n",
    "df = pd.read_json(\"JPMCDS24/datasets-1/server-metrics.json\")\n",
    "df.shape"
   ]
  },
  {
   "cell_type": "code",
   "execution_count": null,
   "id": "8bf7a1c6-69b0-45d0-aa3d-30245935c09d",
   "metadata": {
    "scrolled": true
   },
   "outputs": [],
   "source": [
    "df.head()"
   ]
  },
  {
   "cell_type": "code",
   "execution_count": null,
   "id": "20f768f9-42c5-421f-b316-c3a84ccb0a8e",
   "metadata": {
    "scrolled": true
   },
   "outputs": [],
   "source": [
    "# loading data from web pages\n",
    "df_list = pd.read_html(\"https://en.wikipedia.org/wiki/JPMorgan_Chase\")\n",
    "type(df_list)"
   ]
  },
  {
   "cell_type": "code",
   "execution_count": null,
   "id": "fe63fbca-f8df-4d4d-a823-c48c0683a7d2",
   "metadata": {
    "scrolled": true
   },
   "outputs": [],
   "source": [
    "len(df_list)"
   ]
  },
  {
   "cell_type": "code",
   "execution_count": null,
   "id": "d657c6e2-5e2b-4457-8174-9bc849fb7205",
   "metadata": {},
   "outputs": [],
   "source": [
    "df_list[3]"
   ]
  },
  {
   "cell_type": "code",
   "execution_count": 44,
   "id": "5d860bd3-3895-4518-94d8-6aa77dffd121",
   "metadata": {},
   "outputs": [],
   "source": [
    "df2 = df_list[3]"
   ]
  },
  {
   "cell_type": "code",
   "execution_count": 45,
   "id": "8922bae2-0f7a-4781-b872-10c6cb66c059",
   "metadata": {},
   "outputs": [],
   "source": [
    "# export the dataframe to a CSV file\n",
    "df2.to_csv(\"JPMC data.csv\",index=False)"
   ]
  },
  {
   "cell_type": "code",
   "execution_count": null,
   "id": "10c1d6fe-8357-4dcd-8170-e969de2961e9",
   "metadata": {},
   "outputs": [],
   "source": []
  }
 ],
 "metadata": {
  "kernelspec": {
   "display_name": "Python 3 (ipykernel)",
   "language": "python",
   "name": "python3"
  },
  "language_info": {
   "codemirror_mode": {
    "name": "ipython",
    "version": 3
   },
   "file_extension": ".py",
   "mimetype": "text/x-python",
   "name": "python",
   "nbconvert_exporter": "python",
   "pygments_lexer": "ipython3",
   "version": "3.12.4"
  }
 },
 "nbformat": 4,
 "nbformat_minor": 5
}
