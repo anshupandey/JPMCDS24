{
 "cells": [
  {
   "cell_type": "markdown",
   "id": "8edbaf88",
   "metadata": {
    "colab_type": "text",
    "id": "view-in-github"
   },
   "source": [
    "<a href=\"https://colab.research.google.com/github/anshupandey/Machine_Learning_Training/blob/master/JPMC24/code0x_anova_analysis_profit_data.ipynb\" target=\"_parent\"><img src=\"https://colab.research.google.com/assets/colab-badge.svg\" alt=\"Open In Colab\"/></a>"
   ]
  },
  {
   "cell_type": "markdown",
   "id": "17270f71",
   "metadata": {
    "id": "17270f71"
   },
   "source": [
    "# ANOVA Analysis on Profit Forecast and Reported Data"
   ]
  },
  {
   "cell_type": "markdown",
   "id": "Lj66wFYk87_c",
   "metadata": {
    "id": "Lj66wFYk87_c"
   },
   "source": [
    "### Dataset Information:\n",
    "\n",
    "1. **Forecasted Profit Values** for 30 days: These are the expected profit values predicted ahead of time.\n",
    "2. **Reported Profit Values from 2 Sources** for the same 30 days: These are the actual profit values reported by two different sources.\n",
    "3. **Day**: A column representing the day index (1 to 30).\n",
    "\n",
    "### Explanation of Columns:\n",
    "- **Day**: The day for which the profit is reported (from 1 to 30).\n",
    "- **Forecasted_Profit**: The expected profit value for that day.\n",
    "- **Reported_Profit_Source1**: The actual profit value reported by Source 1 for that day.\n",
    "- **Reported_Profit_Source2**: The actual profit value reported by Source 2 for that day.\n",
    "\n",
    "### Objective:\n",
    "The goal is to identify if there is a significant deviation in the reported values from the forecasted values using hypothesis testing."
   ]
  },
  {
   "cell_type": "markdown",
   "id": "51d8d320",
   "metadata": {
    "id": "51d8d320"
   },
   "source": [
    "In this notebook, we will perform an ANOVA analysis to compare the deviations between forecasted profits and reported profits from two different sources for a period of 30 days."
   ]
  },
  {
   "cell_type": "markdown",
   "id": "eaa22105",
   "metadata": {
    "id": "eaa22105"
   },
   "source": [
    "## Loading Data"
   ]
  },
  {
   "cell_type": "code",
   "execution_count": 1,
   "id": "39c0f1fe",
   "metadata": {
    "colab": {
     "base_uri": "https://localhost:8080/",
     "height": 206
    },
    "id": "39c0f1fe",
    "outputId": "e12485ee-72fe-4879-e6b1-3f0b196ed2b8"
   },
   "outputs": [
    {
     "name": "stderr",
     "output_type": "stream",
     "text": [
      "C:\\Users\\Anshu Pandey\\AppData\\Roaming\\Python\\Python310\\site-packages\\pandas\\core\\arrays\\masked.py:60: UserWarning: Pandas requires version '1.3.6' or newer of 'bottleneck' (version '1.3.5' currently installed).\n",
      "  from pandas.core import (\n"
     ]
    },
    {
     "data": {
      "text/html": [
       "<div>\n",
       "<style scoped>\n",
       "    .dataframe tbody tr th:only-of-type {\n",
       "        vertical-align: middle;\n",
       "    }\n",
       "\n",
       "    .dataframe tbody tr th {\n",
       "        vertical-align: top;\n",
       "    }\n",
       "\n",
       "    .dataframe thead th {\n",
       "        text-align: right;\n",
       "    }\n",
       "</style>\n",
       "<table border=\"1\" class=\"dataframe\">\n",
       "  <thead>\n",
       "    <tr style=\"text-align: right;\">\n",
       "      <th></th>\n",
       "      <th>Day</th>\n",
       "      <th>Forecasted_Profit</th>\n",
       "      <th>Reported_Profit_Source1</th>\n",
       "      <th>Reported_Profit_Source2</th>\n",
       "    </tr>\n",
       "  </thead>\n",
       "  <tbody>\n",
       "    <tr>\n",
       "      <th>0</th>\n",
       "      <td>1</td>\n",
       "      <td>500.00</td>\n",
       "      <td>507.45</td>\n",
       "      <td>487.97</td>\n",
       "    </tr>\n",
       "    <tr>\n",
       "      <th>1</th>\n",
       "      <td>2</td>\n",
       "      <td>518.96</td>\n",
       "      <td>516.88</td>\n",
       "      <td>556.00</td>\n",
       "    </tr>\n",
       "    <tr>\n",
       "      <th>2</th>\n",
       "      <td>3</td>\n",
       "      <td>537.86</td>\n",
       "      <td>547.57</td>\n",
       "      <td>537.59</td>\n",
       "    </tr>\n",
       "    <tr>\n",
       "      <th>3</th>\n",
       "      <td>4</td>\n",
       "      <td>556.65</td>\n",
       "      <td>579.49</td>\n",
       "      <td>535.49</td>\n",
       "    </tr>\n",
       "    <tr>\n",
       "      <th>4</th>\n",
       "      <td>5</td>\n",
       "      <td>575.28</td>\n",
       "      <td>571.76</td>\n",
       "      <td>591.73</td>\n",
       "    </tr>\n",
       "  </tbody>\n",
       "</table>\n",
       "</div>"
      ],
      "text/plain": [
       "   Day  Forecasted_Profit  Reported_Profit_Source1  Reported_Profit_Source2\n",
       "0    1             500.00                   507.45                   487.97\n",
       "1    2             518.96                   516.88                   556.00\n",
       "2    3             537.86                   547.57                   537.59\n",
       "3    4             556.65                   579.49                   535.49\n",
       "4    5             575.28                   571.76                   591.73"
      ]
     },
     "execution_count": 1,
     "metadata": {},
     "output_type": "execute_result"
    }
   ],
   "source": [
    "import pandas as pd\n",
    "import numpy as np\n",
    "\n",
    "#load the dataset\n",
    "df= pd.read_csv(\"datasets-1/profit_forecast_reported.csv\")\n",
    "df.head()"
   ]
  },
  {
   "cell_type": "markdown",
   "id": "8a0a493a",
   "metadata": {},
   "source": [
    "## Comparing Source 1 and Source 2 with forecasted values to observe deviation"
   ]
  },
  {
   "cell_type": "code",
   "execution_count": 2,
   "id": "27944483",
   "metadata": {},
   "outputs": [
    {
     "name": "stdout",
     "output_type": "stream",
     "text": [
      "F_onewayResult(statistic=0.007944609948917544, pvalue=0.9292836462736932)\n"
     ]
    }
   ],
   "source": [
    "# Forecasted v/s source1\n",
    "from scipy import stats\n",
    "anova = stats.f_oneway(df.Forecasted_Profit.values,df.Reported_Profit_Source1.values)\n",
    "print(anova)"
   ]
  },
  {
   "cell_type": "code",
   "execution_count": 3,
   "id": "c2d45831",
   "metadata": {},
   "outputs": [
    {
     "name": "stdout",
     "output_type": "stream",
     "text": [
      "F_onewayResult(statistic=0.02640104786592417, pvalue=0.8714895040541173)\n"
     ]
    }
   ],
   "source": [
    "# Forecasted v/s source2\n",
    "from scipy import stats\n",
    "anova = stats.f_oneway(df.Forecasted_Profit.values,df.Reported_Profit_Source2.values)\n",
    "print(anova)"
   ]
  },
  {
   "cell_type": "markdown",
   "id": "463cbf39",
   "metadata": {
    "id": "463cbf39"
   },
   "source": [
    "## Calculating Deviations from Forecasted Profit"
   ]
  },
  {
   "cell_type": "code",
   "execution_count": 4,
   "id": "6449f239",
   "metadata": {
    "colab": {
     "base_uri": "https://localhost:8080/",
     "height": 206
    },
    "id": "6449f239",
    "outputId": "a6f67051-6a8d-4982-ff32-edced40976fb"
   },
   "outputs": [
    {
     "data": {
      "text/html": [
       "<div>\n",
       "<style scoped>\n",
       "    .dataframe tbody tr th:only-of-type {\n",
       "        vertical-align: middle;\n",
       "    }\n",
       "\n",
       "    .dataframe tbody tr th {\n",
       "        vertical-align: top;\n",
       "    }\n",
       "\n",
       "    .dataframe thead th {\n",
       "        text-align: right;\n",
       "    }\n",
       "</style>\n",
       "<table border=\"1\" class=\"dataframe\">\n",
       "  <thead>\n",
       "    <tr style=\"text-align: right;\">\n",
       "      <th></th>\n",
       "      <th>Day</th>\n",
       "      <th>Forecasted_Profit</th>\n",
       "      <th>Deviation_Source1</th>\n",
       "      <th>Deviation_Source2</th>\n",
       "    </tr>\n",
       "  </thead>\n",
       "  <tbody>\n",
       "    <tr>\n",
       "      <th>0</th>\n",
       "      <td>1</td>\n",
       "      <td>500.00</td>\n",
       "      <td>7.45</td>\n",
       "      <td>-12.03</td>\n",
       "    </tr>\n",
       "    <tr>\n",
       "      <th>1</th>\n",
       "      <td>2</td>\n",
       "      <td>518.96</td>\n",
       "      <td>-2.08</td>\n",
       "      <td>37.04</td>\n",
       "    </tr>\n",
       "    <tr>\n",
       "      <th>2</th>\n",
       "      <td>3</td>\n",
       "      <td>537.86</td>\n",
       "      <td>9.71</td>\n",
       "      <td>-0.27</td>\n",
       "    </tr>\n",
       "    <tr>\n",
       "      <th>3</th>\n",
       "      <td>4</td>\n",
       "      <td>556.65</td>\n",
       "      <td>22.84</td>\n",
       "      <td>-21.16</td>\n",
       "    </tr>\n",
       "    <tr>\n",
       "      <th>4</th>\n",
       "      <td>5</td>\n",
       "      <td>575.28</td>\n",
       "      <td>-3.52</td>\n",
       "      <td>16.45</td>\n",
       "    </tr>\n",
       "  </tbody>\n",
       "</table>\n",
       "</div>"
      ],
      "text/plain": [
       "   Day  Forecasted_Profit  Deviation_Source1  Deviation_Source2\n",
       "0    1             500.00               7.45             -12.03\n",
       "1    2             518.96              -2.08              37.04\n",
       "2    3             537.86               9.71              -0.27\n",
       "3    4             556.65              22.84             -21.16\n",
       "4    5             575.28              -3.52              16.45"
      ]
     },
     "execution_count": 4,
     "metadata": {},
     "output_type": "execute_result"
    }
   ],
   "source": [
    "# Calculating deviations from forecasted profits\n",
    "df['Deviation_Source1'] = df['Reported_Profit_Source1'] - df['Forecasted_Profit']\n",
    "df['Deviation_Source2'] = df['Reported_Profit_Source2'] - df['Forecasted_Profit']\n",
    "\n",
    "df[['Day', 'Forecasted_Profit', 'Deviation_Source1', 'Deviation_Source2']].head()"
   ]
  },
  {
   "cell_type": "markdown",
   "id": "47847c03",
   "metadata": {
    "id": "47847c03"
   },
   "source": [
    "## Performing ANOVA Analysis"
   ]
  },
  {
   "cell_type": "code",
   "execution_count": 5,
   "id": "26536ce4",
   "metadata": {
    "colab": {
     "base_uri": "https://localhost:8080/"
    },
    "id": "26536ce4",
    "outputId": "5ecc84b2-d40e-4b4c-efcc-a2f63a6a1296"
   },
   "outputs": [
    {
     "data": {
      "text/plain": [
       "F_onewayResult(statistic=2.9421128233345986, pvalue=0.09163624507158695)"
      ]
     },
     "execution_count": 5,
     "metadata": {},
     "output_type": "execute_result"
    }
   ],
   "source": [
    "from scipy import stats\n",
    "\n",
    "# Performing one-way ANOVA between the deviations from the two sources\n",
    "anova_result = stats.f_oneway(df['Deviation_Source1'], df['Deviation_Source2'])\n",
    "\n",
    "anova_result"
   ]
  },
  {
   "cell_type": "markdown",
   "id": "b635cedb",
   "metadata": {
    "id": "b635cedb"
   },
   "source": [
    "## Interpretation of Results"
   ]
  },
  {
   "cell_type": "markdown",
   "id": "9fb505ca",
   "metadata": {
    "id": "9fb505ca"
   },
   "source": [
    "The ANOVA test returns two key values:\n",
    "- **F-statistic**: This tells us how much variance exists between the groups compared to within the groups.\n",
    "- **p-value**: This tells us whether the difference in variances between groups is statistically significant.\n",
    "\n",
    "In this case:\n",
    "- **F-statistic**: 2.94\n",
    "- **p-value**: 0.0916\n",
    "\n",
    "Since the p-value is greater than 0.05, we fail to reject the null hypothesis. This means that we do not have enough evidence to conclude that there is a significant difference in the deviations of reported profits between the two sources."
   ]
  },
  {
   "cell_type": "code",
   "execution_count": null,
   "id": "IJseMNlJ8ynx",
   "metadata": {
    "id": "IJseMNlJ8ynx"
   },
   "outputs": [],
   "source": []
  }
 ],
 "metadata": {
  "colab": {
   "include_colab_link": true,
   "provenance": []
  },
  "kernelspec": {
   "display_name": "Python 3 (ipykernel)",
   "language": "python",
   "name": "python3"
  },
  "language_info": {
   "codemirror_mode": {
    "name": "ipython",
    "version": 3
   },
   "file_extension": ".py",
   "mimetype": "text/x-python",
   "name": "python",
   "nbconvert_exporter": "python",
   "pygments_lexer": "ipython3",
   "version": "3.10.9"
  }
 },
 "nbformat": 4,
 "nbformat_minor": 5
}
