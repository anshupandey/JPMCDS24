{
 "cells": [
  {
   "cell_type": "markdown",
   "id": "a8367188-1ad5-4ca6-8384-e3bc652df946",
   "metadata": {},
   "source": [
    "# Data Cleaning"
   ]
  },
  {
   "cell_type": "markdown",
   "id": "cf920e56-7029-4adb-a6eb-37abc9ab0825",
   "metadata": {},
   "source": [
    "1. Handling Missing Data\n",
    "2. Handling Duplicated Entires\n",
    "3. Handling outliers / unnatural values\n",
    "4. Handling unwanted cols/attributes"
   ]
  },
  {
   "cell_type": "code",
   "execution_count": 1,
   "id": "94b7c172-9440-4686-8767-c5c5911b4fe8",
   "metadata": {},
   "outputs": [
    {
     "data": {
      "text/plain": [
       "(23, 7)"
      ]
     },
     "execution_count": 1,
     "metadata": {},
     "output_type": "execute_result"
    }
   ],
   "source": [
    "import pandas as pd\n",
    "\n",
    "df = pd.read_csv(\"JPMCDS24/datasets-1/datawh_missing.csv\")\n",
    "df.shape"
   ]
  },
  {
   "cell_type": "code",
   "execution_count": null,
   "id": "60f1d5ff-8c6f-4c8b-8cc5-d5016b235a06",
   "metadata": {
    "scrolled": true
   },
   "outputs": [],
   "source": [
    "df.head()"
   ]
  },
  {
   "cell_type": "markdown",
   "id": "aac0cf1b-be43-41ad-8d90-6f00eb93e171",
   "metadata": {},
   "source": [
    "## Handling duplicated entries\n",
    "\n",
    "- Step 1: Identify criterion to qualify any entry as duplicate\n",
    "- Step 2: Treat duplicates\n",
    "- \n",
    "      - whether duplicity is natural or system/human error error driven ?\n",
    "      - If System/human error: drop the duplicates\n",
    "      - else retain it if relevant to the use case."
   ]
  },
  {
   "cell_type": "code",
   "execution_count": null,
   "id": "6978020e-7cb7-49c8-9e02-bcd901b18dc7",
   "metadata": {
    "scrolled": true
   },
   "outputs": [],
   "source": [
    "# checking how many rows are duplicates / repeating\n",
    "df.duplicated(subset=['Dates']).sum()"
   ]
  },
  {
   "cell_type": "code",
   "execution_count": null,
   "id": "ec646fbf-93e8-4eff-891d-9405cc44cc33",
   "metadata": {},
   "outputs": [],
   "source": [
    "# checking how many rows are duplicates / repeating\n",
    "df.duplicated().sum()"
   ]
  },
  {
   "cell_type": "code",
   "execution_count": null,
   "id": "5d280a6e-10c9-4c59-9425-05ed9d58aeb8",
   "metadata": {},
   "outputs": [],
   "source": [
    "# checking which rows are duplicating\n",
    "df[df.duplicated(subset=['Dates'])]"
   ]
  },
  {
   "cell_type": "code",
   "execution_count": null,
   "id": "fddd0482-f606-4c45-9659-8fc778523912",
   "metadata": {
    "scrolled": true
   },
   "outputs": [],
   "source": [
    "# checking which rows are duplicating\n",
    "df[df.duplicated(subset=['Dates'],keep=False)]"
   ]
  },
  {
   "cell_type": "code",
   "execution_count": 9,
   "id": "8a64e100-7761-4a5f-a8fb-b3a003401629",
   "metadata": {},
   "outputs": [
    {
     "name": "stdout",
     "output_type": "stream",
     "text": [
      "(23, 7)\n",
      "(21, 7)\n"
     ]
    }
   ],
   "source": [
    "# drop duplicates\n",
    "print(df.shape)\n",
    "df.drop_duplicates(subset=['Dates'],keep='last',inplace=True)\n",
    "print(df.shape)"
   ]
  },
  {
   "cell_type": "markdown",
   "id": "358a3979-dde2-4bc9-b403-334180a57520",
   "metadata": {},
   "source": [
    "# Handling missing values"
   ]
  },
  {
   "cell_type": "markdown",
   "id": "04d89891-61b2-4305-badc-041bd88f982d",
   "metadata": {},
   "source": [
    "- Data is missing becuase it does not exist\n",
    "- - for numeric attributes: replace missing values with arbitary value (min, max)\n",
    "  -                         convert the column into categoric\n",
    "  - for categoric: replace missing values with a \"other\"/\"null\" category\n",
    "  -                 if unique values/high cardinality --> convert to binary\n",
    "\n",
    "  \n",
    "- Data is missing because of some human/system error\n",
    "- - if % of missing data in a row is more than 60% ---> drop the row\n",
    "  - if % of missing data in a column is more than 90% ---> drop the column | convert to binary\n",
    "  - if % of missing data in a column is less than 10% ------> statistical imputation\n",
    "  - - if column is numeric:\n",
    "    - - skewed: median\n",
    "      - not skewed: mean\n",
    "  - - if column in categoric:\n",
    "    - - nominal: mode\n",
    "      - ordinal: median\n",
    "  - if % of missing data in a column is b/w 10 to 30% -------> ML based imputation (ML dirven enrichment/treatment)\n",
    "  - if % of missing data in a column is more than 30% -------> conver the column to categorical  "
   ]
  },
  {
   "cell_type": "code",
   "execution_count": 10,
   "id": "ff6114a4-91be-40f9-a1f0-4669a7998375",
   "metadata": {},
   "outputs": [
    {
     "data": {
      "text/html": [
       "<div>\n",
       "<style scoped>\n",
       "    .dataframe tbody tr th:only-of-type {\n",
       "        vertical-align: middle;\n",
       "    }\n",
       "\n",
       "    .dataframe tbody tr th {\n",
       "        vertical-align: top;\n",
       "    }\n",
       "\n",
       "    .dataframe thead th {\n",
       "        text-align: right;\n",
       "    }\n",
       "</style>\n",
       "<table border=\"1\" class=\"dataframe\">\n",
       "  <thead>\n",
       "    <tr style=\"text-align: right;\">\n",
       "      <th></th>\n",
       "      <th>Dates</th>\n",
       "      <th>Temperature</th>\n",
       "      <th>Humidity</th>\n",
       "      <th>Pressure</th>\n",
       "      <th>Air Quality</th>\n",
       "      <th>Day id</th>\n",
       "      <th>Vibration</th>\n",
       "    </tr>\n",
       "  </thead>\n",
       "  <tbody>\n",
       "    <tr>\n",
       "      <th>0</th>\n",
       "      <td>30-04-2018</td>\n",
       "      <td>218</td>\n",
       "      <td>182</td>\n",
       "      <td>4</td>\n",
       "      <td>2</td>\n",
       "      <td>1</td>\n",
       "      <td>45</td>\n",
       "    </tr>\n",
       "    <tr>\n",
       "      <th>1</th>\n",
       "      <td>01-05-2018</td>\n",
       "      <td>?</td>\n",
       "      <td>182</td>\n",
       "      <td>3</td>\n",
       "      <td>2</td>\n",
       "      <td>2</td>\n",
       "      <td>56</td>\n",
       "    </tr>\n",
       "    <tr>\n",
       "      <th>2</th>\n",
       "      <td>02-05-2018</td>\n",
       "      <td>.</td>\n",
       "      <td>439</td>\n",
       "      <td>NaN</td>\n",
       "      <td>0</td>\n",
       "      <td>3</td>\n",
       "      <td>45</td>\n",
       "    </tr>\n",
       "    <tr>\n",
       "      <th>3</th>\n",
       "      <td>03-05-2018</td>\n",
       "      <td>2439</td>\n",
       "      <td>53</td>\n",
       "      <td>5</td>\n",
       "      <td>1</td>\n",
       "      <td>4</td>\n",
       "      <td>23</td>\n",
       "    </tr>\n",
       "    <tr>\n",
       "      <th>4</th>\n",
       "      <td>04-05-2018</td>\n",
       "      <td>824</td>\n",
       "      <td>444</td>\n",
       "      <td>5</td>\n",
       "      <td>NaN</td>\n",
       "      <td>5</td>\n",
       "      <td>35</td>\n",
       "    </tr>\n",
       "    <tr>\n",
       "      <th>5</th>\n",
       "      <td>05-05-2018</td>\n",
       "      <td>1744</td>\n",
       "      <td>.</td>\n",
       "      <td>5</td>\n",
       "      <td>1</td>\n",
       "      <td>6</td>\n",
       "      <td>26</td>\n",
       "    </tr>\n",
       "    <tr>\n",
       "      <th>6</th>\n",
       "      <td>06-05-2018</td>\n",
       "      <td>786</td>\n",
       "      <td>.</td>\n",
       "      <td>5</td>\n",
       "      <td>1</td>\n",
       "      <td>7</td>\n",
       "      <td>25</td>\n",
       "    </tr>\n",
       "    <tr>\n",
       "      <th>7</th>\n",
       "      <td>07-05-2018</td>\n",
       "      <td>1326</td>\n",
       "      <td>309</td>\n",
       "      <td>.</td>\n",
       "      <td>1</td>\n",
       "      <td>8</td>\n",
       "      <td>26</td>\n",
       "    </tr>\n",
       "    <tr>\n",
       "      <th>8</th>\n",
       "      <td>08-05-2018</td>\n",
       "      <td>1804</td>\n",
       "      <td>188</td>\n",
       "      <td>.</td>\n",
       "      <td>2</td>\n",
       "      <td>9</td>\n",
       "      <td>25</td>\n",
       "    </tr>\n",
       "    <tr>\n",
       "      <th>9</th>\n",
       "      <td>09-05-2018</td>\n",
       "      <td>?</td>\n",
       "      <td>420</td>\n",
       "      <td>0</td>\n",
       "      <td>1</td>\n",
       "      <td>10</td>\n",
       "      <td>35</td>\n",
       "    </tr>\n",
       "    <tr>\n",
       "      <th>10</th>\n",
       "      <td>10-05-2018</td>\n",
       "      <td>2524</td>\n",
       "      <td>433</td>\n",
       "      <td>1</td>\n",
       "      <td>0</td>\n",
       "      <td>11</td>\n",
       "      <td>45</td>\n",
       "    </tr>\n",
       "    <tr>\n",
       "      <th>11</th>\n",
       "      <td>11-05-2018</td>\n",
       "      <td>2945</td>\n",
       "      <td>149</td>\n",
       "      <td>.</td>\n",
       "      <td>0</td>\n",
       "      <td>12</td>\n",
       "      <td>41</td>\n",
       "    </tr>\n",
       "    <tr>\n",
       "      <th>12</th>\n",
       "      <td>12-05-2018</td>\n",
       "      <td>.</td>\n",
       "      <td>531</td>\n",
       "      <td>1</td>\n",
       "      <td>1</td>\n",
       "      <td>13</td>\n",
       "      <td>45</td>\n",
       "    </tr>\n",
       "    <tr>\n",
       "      <th>13</th>\n",
       "      <td>13-05-2018</td>\n",
       "      <td>1318</td>\n",
       "      <td>360</td>\n",
       "      <td>3</td>\n",
       "      <td>2</td>\n",
       "      <td>14</td>\n",
       "      <td>45</td>\n",
       "    </tr>\n",
       "    <tr>\n",
       "      <th>14</th>\n",
       "      <td>14-05-2018</td>\n",
       "      <td>.</td>\n",
       "      <td>435</td>\n",
       "      <td>NaN</td>\n",
       "      <td>2</td>\n",
       "      <td>15</td>\n",
       "      <td>42</td>\n",
       "    </tr>\n",
       "    <tr>\n",
       "      <th>15</th>\n",
       "      <td>15-05-2018</td>\n",
       "      <td>.</td>\n",
       "      <td>259</td>\n",
       "      <td>4</td>\n",
       "      <td>0</td>\n",
       "      <td>16</td>\n",
       "      <td>35</td>\n",
       "    </tr>\n",
       "    <tr>\n",
       "      <th>16</th>\n",
       "      <td>16-05-2018</td>\n",
       "      <td>.</td>\n",
       "      <td>.</td>\n",
       "      <td>.</td>\n",
       "      <td>.</td>\n",
       "      <td>17</td>\n",
       "      <td>36</td>\n",
       "    </tr>\n",
       "    <tr>\n",
       "      <th>17</th>\n",
       "      <td>17-05-2018</td>\n",
       "      <td>2200</td>\n",
       "      <td>325</td>\n",
       "      <td>3</td>\n",
       "      <td>2</td>\n",
       "      <td>18</td>\n",
       "      <td>35</td>\n",
       "    </tr>\n",
       "    <tr>\n",
       "      <th>18</th>\n",
       "      <td>18-05-2018</td>\n",
       "      <td>1722</td>\n",
       "      <td>523</td>\n",
       "      <td>.</td>\n",
       "      <td>2</td>\n",
       "      <td>19</td>\n",
       "      <td>38</td>\n",
       "    </tr>\n",
       "    <tr>\n",
       "      <th>21</th>\n",
       "      <td>19-05-2018</td>\n",
       "      <td>766</td>\n",
       "      <td>535</td>\n",
       "      <td>3</td>\n",
       "      <td>2</td>\n",
       "      <td>20</td>\n",
       "      <td>39</td>\n",
       "    </tr>\n",
       "    <tr>\n",
       "      <th>22</th>\n",
       "      <td>20-05-2018</td>\n",
       "      <td>1500</td>\n",
       "      <td>480</td>\n",
       "      <td>4</td>\n",
       "      <td>1</td>\n",
       "      <td>21</td>\n",
       "      <td>99</td>\n",
       "    </tr>\n",
       "  </tbody>\n",
       "</table>\n",
       "</div>"
      ],
      "text/plain": [
       "         Dates Temperature Humidity Pressure Air Quality  Day id  Vibration\n",
       "0   30-04-2018         218      182        4           2       1         45\n",
       "1   01-05-2018           ?      182        3           2       2         56\n",
       "2   02-05-2018           .      439      NaN           0       3         45\n",
       "3   03-05-2018        2439       53        5           1       4         23\n",
       "4   04-05-2018         824      444        5         NaN       5         35\n",
       "5   05-05-2018        1744        .        5           1       6         26\n",
       "6   06-05-2018         786        .        5           1       7         25\n",
       "7   07-05-2018        1326      309        .           1       8         26\n",
       "8   08-05-2018        1804      188        .           2       9         25\n",
       "9   09-05-2018           ?      420        0           1      10         35\n",
       "10  10-05-2018        2524      433        1           0      11         45\n",
       "11  11-05-2018        2945      149        .           0      12         41\n",
       "12  12-05-2018           .      531        1           1      13         45\n",
       "13  13-05-2018        1318      360        3           2      14         45\n",
       "14  14-05-2018           .      435      NaN           2      15         42\n",
       "15  15-05-2018           .      259        4           0      16         35\n",
       "16  16-05-2018           .        .        .           .      17         36\n",
       "17  17-05-2018        2200      325        3           2      18         35\n",
       "18  18-05-2018        1722      523        .           2      19         38\n",
       "21  19-05-2018         766      535        3           2      20         39\n",
       "22  20-05-2018        1500      480        4           1      21         99"
      ]
     },
     "execution_count": 10,
     "metadata": {},
     "output_type": "execute_result"
    }
   ],
   "source": [
    "df"
   ]
  },
  {
   "cell_type": "code",
   "execution_count": null,
   "id": "a744d57b-17fd-46bd-82de-771f839ec7b3",
   "metadata": {},
   "outputs": [],
   "source": [
    "#check for missing values\n",
    "df.isnull().sum()"
   ]
  },
  {
   "cell_type": "code",
   "execution_count": null,
   "id": "e274121d-72a4-4882-8816-8de56d13dfde",
   "metadata": {
    "scrolled": true
   },
   "outputs": [],
   "source": [
    "df = pd.read_csv(\"JPMCDS24/datasets-1/datawh_missing.csv\",na_values=['?','.','NA','#'])\n",
    "df.shape"
   ]
  },
  {
   "cell_type": "code",
   "execution_count": null,
   "id": "1eb82c01-9772-48fd-88d2-c4657b8c6d0c",
   "metadata": {
    "scrolled": true
   },
   "outputs": [],
   "source": [
    "#check for missing values\n",
    "df.isnull().sum()"
   ]
  },
  {
   "cell_type": "code",
   "execution_count": null,
   "id": "b56c288b-dc7c-4d96-ad66-9078dc11405e",
   "metadata": {
    "scrolled": true
   },
   "outputs": [],
   "source": [
    "df.head()"
   ]
  },
  {
   "cell_type": "code",
   "execution_count": null,
   "id": "10699fa7-da19-4be2-8bfc-31bb123a557d",
   "metadata": {
    "scrolled": true
   },
   "outputs": [],
   "source": [
    "df.skew(numeric_only=True)"
   ]
  },
  {
   "cell_type": "code",
   "execution_count": 38,
   "id": "f60fd77f-cb5b-40ae-a497-5de56e78aa37",
   "metadata": {},
   "outputs": [],
   "source": [
    "# if skewness -0.3 to +0.3 == almost zero skewness and normal distribution - use mean\n",
    "# if skewness is above +0.3, below -0.3 == slightly skewed consider using median\n",
    "# if skewness is above +1 or below -1 == heavilys skewed, perform outlier treatment before missing value treatment"
   ]
  },
  {
   "cell_type": "code",
   "execution_count": 39,
   "id": "379853a2-5dd6-41ec-aca2-afdf3dc6287a",
   "metadata": {},
   "outputs": [],
   "source": [
    "# treat duplicates\n",
    "df.drop_duplicates(keep='last',inplace=True)"
   ]
  },
  {
   "cell_type": "code",
   "execution_count": null,
   "id": "4b0e5565-46b1-4d18-8026-969f4f4d6667",
   "metadata": {},
   "outputs": [],
   "source": [
    "df.skew(numeric_only=True)"
   ]
  },
  {
   "cell_type": "code",
   "execution_count": null,
   "id": "04eb941e-1cbb-417b-b3c2-e0710865d33e",
   "metadata": {},
   "outputs": [],
   "source": [
    "# % of missing data\n",
    "df.isnull().sum()/df.shape[0]"
   ]
  },
  {
   "cell_type": "code",
   "execution_count": null,
   "id": "a9019d59-b74d-44fc-a691-fcb1502f038b",
   "metadata": {
    "scrolled": true
   },
   "outputs": [],
   "source": [
    "import matplotlib.pyplot as plt\n",
    "plt.hist(df.Temperature)\n",
    "plt.show()"
   ]
  },
  {
   "cell_type": "code",
   "execution_count": null,
   "id": "6e7f8ed4-ab54-40af-b24e-4fdc27dde4d5",
   "metadata": {},
   "outputs": [],
   "source": [
    "df['Temperature'].fillna(df['Temperature'].mean(),inplace=True)\n",
    "df.Temperature.skew()"
   ]
  },
  {
   "cell_type": "code",
   "execution_count": null,
   "id": "cd50f84f-b9f9-49e0-af88-8e10c6bdc1ae",
   "metadata": {},
   "outputs": [],
   "source": [
    "import matplotlib.pyplot as plt\n",
    "plt.hist(df.Temperature)\n",
    "plt.show()"
   ]
  },
  {
   "cell_type": "code",
   "execution_count": null,
   "id": "cc678d83-8f83-449e-8d11-fef81a87cddd",
   "metadata": {
    "scrolled": true
   },
   "outputs": [],
   "source": [
    "df['Humidity'].fillna(df['Humidity'].median(),inplace=True)\n",
    "df['Pressure'].fillna(df['Pressure'].median(),inplace=True)\n",
    "df['Air Quality'].fillna(df['Air Quality'].median(),inplace=True)\n",
    "\n",
    "df.isnull().sum()"
   ]
  },
  {
   "cell_type": "markdown",
   "id": "0f9fe6b0-cfab-4f88-8ddf-749400578358",
   "metadata": {},
   "source": [
    "# Handling outliers"
   ]
  },
  {
   "cell_type": "markdown",
   "id": "c71608dd-699e-477c-a5ba-900c5533ac5e",
   "metadata": {},
   "source": [
    "- Treating outliers: Numeric Attributes\n",
    "- - if skewness > +1 ==> higher value outliers are present\n",
    "  - Clipping: clip the values above 90-95 percentile by nearest inlier\n",
    "  - Convert to categoric/binary\n",
    "  \n",
    "  - if skewness < -1 ==> lower value outliers are present\n",
    "  - Clipping: clip the values eblow 5-10 percentile by nearest inlier\n",
    "  - convert to categoric/binary"
   ]
  },
  {
   "cell_type": "code",
   "execution_count": 52,
   "id": "8b899b1b-cd13-4e20-9621-ae8b48d7dafb",
   "metadata": {},
   "outputs": [],
   "source": [
    "# Identifying outliers\n",
    "# Box Plot Approach\n",
    "# value > Q3 + 1.5*IQR or value < Q1 - 1.5*IQR is considered as outlier\n",
    "# IQR = Inter quartile range, IQR = Q3 - Q1\n",
    "# Q1 = 25th percentile value, Q3 = 75th percentile value\n",
    "\n",
    "# Skewness Approach\n",
    "# if skewness is > +1 or below -1 ===> outliers are present"
   ]
  },
  {
   "cell_type": "code",
   "execution_count": null,
   "id": "659dd169-4acd-4016-8fad-8c549e594b5a",
   "metadata": {
    "scrolled": true
   },
   "outputs": [],
   "source": [
    "df.skew(numeric_only=True)"
   ]
  },
  {
   "cell_type": "code",
   "execution_count": null,
   "id": "706cd0c2-37ab-4e2b-a510-a9f10f412b9b",
   "metadata": {
    "scrolled": true
   },
   "outputs": [],
   "source": [
    "plt.boxplot(df.Vibration)\n",
    "import seaborn as sns\n",
    "sns.set_theme()\n",
    "plt.show()"
   ]
  },
  {
   "cell_type": "code",
   "execution_count": null,
   "id": "c4923fa9-911d-49b4-a740-584d6899177a",
   "metadata": {},
   "outputs": [],
   "source": [
    "thresh = df.Vibration.quantile(0.95) # acces the vlaue at 95 percentile\n",
    "# replace all values higher than thesh by maximum value below thresh\n",
    "df.Vibration[df.Vibration>thresh] = df.Vibration[df.Vibration<thresh].max()\n",
    "df.Vibration.skew()"
   ]
  },
  {
   "cell_type": "code",
   "execution_count": 60,
   "id": "bb34b215-4138-4b5e-8e05-7050e791ffa9",
   "metadata": {},
   "outputs": [
    {
     "data": {
      "image/png": "[encoded data removed]",
      "text/plain": [
       "<Figure size 640x480 with 1 Axes>"
      ]
     },
     "metadata": {},
     "output_type": "display_data"
    }
   ],
   "source": [
    "plt.boxplot(df.Vibration)\n",
    "plt.show()"
   ]
  },
  {
   "cell_type": "code",
   "execution_count": null,
   "id": "ccf1a082-85f4-4379-a369-6718c0ed0519",
   "metadata": {},
   "outputs": [],
   "source": []
  }
 ],
 "metadata": {
  "kernelspec": {
   "display_name": "Python 3 (ipykernel)",
   "language": "python",
   "name": "python3"
  },
  "language_info": {
   "codemirror_mode": {
    "name": "ipython",
    "version": 3
   },
   "file_extension": ".py",
   "mimetype": "text/x-python",
   "name": "python",
   "nbconvert_exporter": "python",
   "pygments_lexer": "ipython3",
   "version": "3.12.4"
  }
 },
 "nbformat": 4,
 "nbformat_minor": 5
}
