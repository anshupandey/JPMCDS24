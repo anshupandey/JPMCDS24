{
 "cells": [
  {
   "cell_type": "markdown",
   "id": "67c2fd32-2974-4955-9de8-587a361e102c",
   "metadata": {},
   "source": [
    "# Z Test (Z Score)\n",
    "\n",
    "- to be used when you want to compare a received sample with a hypothetical (known) value.\n",
    "- Example: Given that we have data of all employees of JPMC, and based on it, average age = 28 years\n",
    "- - THe HR team rolled out a survey, and wants to ensure that the survey is not filled only by a specific age group, rather\n",
    "  - the captured survey data represents overall population (all employees of JPMC)\n",
    " \n",
    "We can use Z test to validate whether the average age of employees who filled survey is closer to 28.\n",
    "\n",
    "Hypothesis Testing\n",
    "\n",
    "    Null Hypothesis (H0) = the avreage of given sample is similar to population mean (hypothetical value)\n",
    "    Alternate Hypothesis (Ha) = the average of given sample is NOT similar to population mean(hypothetical value)\n",
    "\n",
    "Result of z test is pvalue.\n",
    "\n",
    "Decide CI (confidence Interval) = 95%, significance level (alpha) = 1 - CI = 1-0.95 = 0.05\n",
    "\n",
    " - if pvalue > alpha = we fail to reject Null Hypothesis\n",
    " - if pvalue < alpha = we successfully reject Null Hypothesis"
   ]
  },
  {
   "cell_type": "code",
   "execution_count": 1,
   "id": "568be07d-b962-484a-8eb4-923b150c9eff",
   "metadata": {},
   "outputs": [],
   "source": [
    "survey_emp_age_sample = [23,25,49,47,48,39,37,37,39,43,45,46,46,48]\n",
    "pop_mean = 28"
   ]
  },
  {
   "cell_type": "code",
   "execution_count": 2,
   "id": "27d0fe6b-3399-4ced-bfd6-c95d721f239d",
   "metadata": {},
   "outputs": [
    {
     "name": "stdout",
     "output_type": "stream",
     "text": [
      "5.82813168327645e-09\n"
     ]
    }
   ],
   "source": [
    "from statsmodels.stats.weightstats import ztest\n",
    "zscore,pvalue = ztest(survey_emp_age_sample,value=pop_mean)\n",
    "\n",
    "print(pvalue)"
   ]
  },
  {
   "cell_type": "code",
   "execution_count": 4,
   "id": "d9384ddc-c6d3-441a-9dc6-b09f5a3fccf2",
   "metadata": {},
   "outputs": [
    {
     "name": "stdout",
     "output_type": "stream",
     "text": [
      "0.060426285469988524\n"
     ]
    }
   ],
   "source": [
    "survey_emp_age_sample = [23,25,39,27,38,29,37,37,21,29,23,22,35,46,36,38]\n",
    "pop_mean = 28\n",
    "from statsmodels.stats.weightstats import ztest\n",
    "zscore,pvalue = ztest(survey_emp_age_sample,value=pop_mean)\n",
    "\n",
    "print(pvalue)"
   ]
  },
  {
   "cell_type": "markdown",
   "id": "be7fc6c1-398d-48df-9d86-8870c543ef3b",
   "metadata": {},
   "source": [
    "## ANalyzing impact of new ticketing software in banking\n",
    "\n",
    "Background: Current ticketing sfotware is more difficult for banking professionals to use and it often leads to high number of days in resolving queries.\n",
    "Based on past 5 years of queries and resolution time, it took averange of 6 days to resolve the queries. \n",
    "\n",
    "Now the Bank has adopted a new tool to handle queries, below is data of time taken to resolve queries for last 6 months using new tool.\n",
    "\n",
    "newTool_time = [3,4,3,4,5,4]\n",
    "\n",
    "Validate whether the new tool has impacted the query resolution process or not.\n",
    "\n",
    "\n",
    "Hypothesis Testing\n",
    "\n",
    "    Null Hypothesis (H0) = the avreage of given sample is similar to population mean (hypothetical value)\n",
    "    Alternate Hypothesis (Ha) = the average of given sample is NOT similar to population mean(hypothetical value)\n",
    "\n",
    "Result of z test is pvalue.\n",
    "\n",
    "Decide CI (confidence Interval) = 95%, significance level (alpha) = 1 - CI = 1-0.95 = 0.05\n",
    "\n",
    " - if pvalue > alpha = we fail to reject Null Hypothesis\n",
    " - if pvalue < alpha = we successfully reject Null Hypothesis"
   ]
  },
  {
   "cell_type": "code",
   "execution_count": 7,
   "id": "50bea765-ebae-4bc0-914f-91bf9b3eda1d",
   "metadata": {},
   "outputs": [
    {
     "name": "stdout",
     "output_type": "stream",
     "text": [
      "1.7860961109805845e-12 -7.050239879106326\n"
     ]
    }
   ],
   "source": [
    "sample = [3,4,3,4,5,4]\n",
    "pop_mean = 6\n",
    "\n",
    "from statsmodels.stats.weightstats import ztest\n",
    "zscore,pvalue = ztest(sample,value=pop_mean)\n",
    "\n",
    "print(pvalue,zscore)"
   ]
  },
  {
   "cell_type": "code",
   "execution_count": 8,
   "id": "74a39b85-ace1-428f-9036-4333873181fb",
   "metadata": {},
   "outputs": [
    {
     "name": "stdout",
     "output_type": "stream",
     "text": [
      "4.7519174002587746e-05 4.067505074913275\n"
     ]
    }
   ],
   "source": [
    "sample = [13,24,33,14,25,44]\n",
    "pop_mean = 6\n",
    "\n",
    "from statsmodels.stats.weightstats import ztest\n",
    "zscore,pvalue = ztest(sample,value=pop_mean)\n",
    "\n",
    "print(pvalue,zscore)"
   ]
  },
  {
   "cell_type": "code",
   "execution_count": null,
   "id": "2c0e2bf7-2ca8-47fd-9a7b-6946feb293d2",
   "metadata": {},
   "outputs": [],
   "source": []
  }
 ],
 "metadata": {
  "kernelspec": {
   "display_name": "Python 3 (ipykernel)",
   "language": "python",
   "name": "python3"
  },
  "language_info": {
   "codemirror_mode": {
    "name": "ipython",
    "version": 3
   },
   "file_extension": ".py",
   "mimetype": "text/x-python",
   "name": "python",
   "nbconvert_exporter": "python",
   "pygments_lexer": "ipython3",
   "version": "3.10.9"
  }
 },
 "nbformat": 4,
 "nbformat_minor": 5
}
